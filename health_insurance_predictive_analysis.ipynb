{
  "nbformat": 4,
  "nbformat_minor": 0,
  "metadata": {
    "colab": {
      "name": "Civis - Applied Data Science Assessment.ipynb",
      "provenance": [],
      "collapsed_sections": [],
      "toc_visible": true
    },
    "kernelspec": {
      "name": "python3",
      "display_name": "Python 3"
    }
  },
  "cells": [
    {
      "cell_type": "code",
      "metadata": {
        "id": "xCtQ6BbLd3xd"
      },
      "source": [
        "import pandas as pd\n",
        "import numpy as np\n",
        "import seaborn as sns\n",
        "import matplotlib.pyplot as plt\n",
        "from sklearn.model_selection import train_test_split\n",
        "from sklearn.linear_model import LogisticRegression\n",
        "from sklearn.ensemble import RandomForestClassifier\n",
        "from sklearn import metrics\n",
        "from sklearn.preprocessing import OneHotEncoder\n",
        "\n",
        "household = pd.read_csv('/content/drive/MyDrive/household_level_data.csv')\n",
        "person = pd.read_csv('/content/drive/MyDrive/person_level_data.csv')\n",
        "training = pd.read_csv('/content/drive/MyDrive/training_set_data.csv')\n",
        "unlabeled = pd.read_csv('/content/drive/MyDrive/unlabeled_data.csv')"
      ],
      "execution_count": 1,
      "outputs": []
    },
    {
      "cell_type": "code",
      "metadata": {
        "id": "k77Q-iSgNvmA"
      },
      "source": [
        "hh = household.pivot_table(index='household_id', columns='variable', values='value').reset_index()"
      ],
      "execution_count": 2,
      "outputs": []
    },
    {
      "cell_type": "code",
      "metadata": {
        "id": "8j0cjOVvO0bT",
        "colab": {
          "base_uri": "https://localhost:8080/",
          "height": 419
        },
        "outputId": "d4c91bee-a864-43bf-8fb4-5d56aa2e4091"
      },
      "source": [
        "household"
      ],
      "execution_count": 3,
      "outputs": [
        {
          "output_type": "execute_result",
          "data": {
            "text/html": [
              "<div>\n",
              "<style scoped>\n",
              "    .dataframe tbody tr th:only-of-type {\n",
              "        vertical-align: middle;\n",
              "    }\n",
              "\n",
              "    .dataframe tbody tr th {\n",
              "        vertical-align: top;\n",
              "    }\n",
              "\n",
              "    .dataframe thead th {\n",
              "        text-align: right;\n",
              "    }\n",
              "</style>\n",
              "<table border=\"1\" class=\"dataframe\">\n",
              "  <thead>\n",
              "    <tr style=\"text-align: right;\">\n",
              "      <th></th>\n",
              "      <th>household_id</th>\n",
              "      <th>variable</th>\n",
              "      <th>value</th>\n",
              "    </tr>\n",
              "  </thead>\n",
              "  <tbody>\n",
              "    <tr>\n",
              "      <th>0</th>\n",
              "      <td>5</td>\n",
              "      <td>hh_income</td>\n",
              "      <td>90334.0</td>\n",
              "    </tr>\n",
              "    <tr>\n",
              "      <th>1</th>\n",
              "      <td>5</td>\n",
              "      <td>hh_size</td>\n",
              "      <td>2.0</td>\n",
              "    </tr>\n",
              "    <tr>\n",
              "      <th>2</th>\n",
              "      <td>5</td>\n",
              "      <td>num_children</td>\n",
              "      <td>0.0</td>\n",
              "    </tr>\n",
              "    <tr>\n",
              "      <th>3</th>\n",
              "      <td>9</td>\n",
              "      <td>hh_income</td>\n",
              "      <td>66216.0</td>\n",
              "    </tr>\n",
              "    <tr>\n",
              "      <th>4</th>\n",
              "      <td>9</td>\n",
              "      <td>hh_size</td>\n",
              "      <td>2.0</td>\n",
              "    </tr>\n",
              "    <tr>\n",
              "      <th>...</th>\n",
              "      <td>...</td>\n",
              "      <td>...</td>\n",
              "      <td>...</td>\n",
              "    </tr>\n",
              "    <tr>\n",
              "      <th>32953</th>\n",
              "      <td>55141</td>\n",
              "      <td>hh_size</td>\n",
              "      <td>2.0</td>\n",
              "    </tr>\n",
              "    <tr>\n",
              "      <th>32954</th>\n",
              "      <td>55141</td>\n",
              "      <td>num_children</td>\n",
              "      <td>0.0</td>\n",
              "    </tr>\n",
              "    <tr>\n",
              "      <th>32955</th>\n",
              "      <td>55148</td>\n",
              "      <td>hh_income</td>\n",
              "      <td>41676.0</td>\n",
              "    </tr>\n",
              "    <tr>\n",
              "      <th>32956</th>\n",
              "      <td>55148</td>\n",
              "      <td>hh_size</td>\n",
              "      <td>1.0</td>\n",
              "    </tr>\n",
              "    <tr>\n",
              "      <th>32957</th>\n",
              "      <td>55148</td>\n",
              "      <td>num_children</td>\n",
              "      <td>0.0</td>\n",
              "    </tr>\n",
              "  </tbody>\n",
              "</table>\n",
              "<p>32958 rows × 3 columns</p>\n",
              "</div>"
            ],
            "text/plain": [
              "       household_id      variable    value\n",
              "0                 5     hh_income  90334.0\n",
              "1                 5       hh_size      2.0\n",
              "2                 5  num_children      0.0\n",
              "3                 9     hh_income  66216.0\n",
              "4                 9       hh_size      2.0\n",
              "...             ...           ...      ...\n",
              "32953         55141       hh_size      2.0\n",
              "32954         55141  num_children      0.0\n",
              "32955         55148     hh_income  41676.0\n",
              "32956         55148       hh_size      1.0\n",
              "32957         55148  num_children      0.0\n",
              "\n",
              "[32958 rows x 3 columns]"
            ]
          },
          "metadata": {
            "tags": []
          },
          "execution_count": 3
        }
      ]
    },
    {
      "cell_type": "code",
      "metadata": {
        "colab": {
          "base_uri": "https://localhost:8080/",
          "height": 359
        },
        "id": "cSKftpMggZqg",
        "outputId": "23a82fdd-79ea-46bf-ab8e-a6bf7b9ed711"
      },
      "source": [
        "household.head(10)"
      ],
      "execution_count": 4,
      "outputs": [
        {
          "output_type": "execute_result",
          "data": {
            "text/html": [
              "<div>\n",
              "<style scoped>\n",
              "    .dataframe tbody tr th:only-of-type {\n",
              "        vertical-align: middle;\n",
              "    }\n",
              "\n",
              "    .dataframe tbody tr th {\n",
              "        vertical-align: top;\n",
              "    }\n",
              "\n",
              "    .dataframe thead th {\n",
              "        text-align: right;\n",
              "    }\n",
              "</style>\n",
              "<table border=\"1\" class=\"dataframe\">\n",
              "  <thead>\n",
              "    <tr style=\"text-align: right;\">\n",
              "      <th></th>\n",
              "      <th>household_id</th>\n",
              "      <th>variable</th>\n",
              "      <th>value</th>\n",
              "    </tr>\n",
              "  </thead>\n",
              "  <tbody>\n",
              "    <tr>\n",
              "      <th>0</th>\n",
              "      <td>5</td>\n",
              "      <td>hh_income</td>\n",
              "      <td>90334.0</td>\n",
              "    </tr>\n",
              "    <tr>\n",
              "      <th>1</th>\n",
              "      <td>5</td>\n",
              "      <td>hh_size</td>\n",
              "      <td>2.0</td>\n",
              "    </tr>\n",
              "    <tr>\n",
              "      <th>2</th>\n",
              "      <td>5</td>\n",
              "      <td>num_children</td>\n",
              "      <td>0.0</td>\n",
              "    </tr>\n",
              "    <tr>\n",
              "      <th>3</th>\n",
              "      <td>9</td>\n",
              "      <td>hh_income</td>\n",
              "      <td>66216.0</td>\n",
              "    </tr>\n",
              "    <tr>\n",
              "      <th>4</th>\n",
              "      <td>9</td>\n",
              "      <td>hh_size</td>\n",
              "      <td>2.0</td>\n",
              "    </tr>\n",
              "    <tr>\n",
              "      <th>5</th>\n",
              "      <td>9</td>\n",
              "      <td>num_children</td>\n",
              "      <td>0.0</td>\n",
              "    </tr>\n",
              "    <tr>\n",
              "      <th>6</th>\n",
              "      <td>22</td>\n",
              "      <td>hh_income</td>\n",
              "      <td>84614.0</td>\n",
              "    </tr>\n",
              "    <tr>\n",
              "      <th>7</th>\n",
              "      <td>22</td>\n",
              "      <td>hh_size</td>\n",
              "      <td>3.0</td>\n",
              "    </tr>\n",
              "    <tr>\n",
              "      <th>8</th>\n",
              "      <td>22</td>\n",
              "      <td>num_children</td>\n",
              "      <td>0.0</td>\n",
              "    </tr>\n",
              "    <tr>\n",
              "      <th>9</th>\n",
              "      <td>31</td>\n",
              "      <td>hh_income</td>\n",
              "      <td>60285.0</td>\n",
              "    </tr>\n",
              "  </tbody>\n",
              "</table>\n",
              "</div>"
            ],
            "text/plain": [
              "   household_id      variable    value\n",
              "0             5     hh_income  90334.0\n",
              "1             5       hh_size      2.0\n",
              "2             5  num_children      0.0\n",
              "3             9     hh_income  66216.0\n",
              "4             9       hh_size      2.0\n",
              "5             9  num_children      0.0\n",
              "6            22     hh_income  84614.0\n",
              "7            22       hh_size      3.0\n",
              "8            22  num_children      0.0\n",
              "9            31     hh_income  60285.0"
            ]
          },
          "metadata": {
            "tags": []
          },
          "execution_count": 4
        }
      ]
    },
    {
      "cell_type": "code",
      "metadata": {
        "colab": {
          "base_uri": "https://localhost:8080/"
        },
        "id": "EOTcEj5Jji3m",
        "outputId": "ce97eead-20bf-480f-d252-3822827b7171"
      },
      "source": [
        "household.shape"
      ],
      "execution_count": 5,
      "outputs": [
        {
          "output_type": "execute_result",
          "data": {
            "text/plain": [
              "(32958, 3)"
            ]
          },
          "metadata": {
            "tags": []
          },
          "execution_count": 5
        }
      ]
    },
    {
      "cell_type": "code",
      "metadata": {
        "colab": {
          "base_uri": "https://localhost:8080/"
        },
        "id": "jDxMV_9rlmTc",
        "outputId": "760dc1b0-a45b-4e60-f9bb-643992e057ba"
      },
      "source": [
        "household.isnull().sum()"
      ],
      "execution_count": 6,
      "outputs": [
        {
          "output_type": "execute_result",
          "data": {
            "text/plain": [
              "household_id    0\n",
              "variable        0\n",
              "value           0\n",
              "dtype: int64"
            ]
          },
          "metadata": {
            "tags": []
          },
          "execution_count": 6
        }
      ]
    },
    {
      "cell_type": "code",
      "metadata": {
        "colab": {
          "base_uri": "https://localhost:8080/",
          "height": 224
        },
        "id": "hLDExoBEgcpr",
        "outputId": "8202676d-025f-4ed6-8f39-6293c386008d"
      },
      "source": [
        "person.head()"
      ],
      "execution_count": 7,
      "outputs": [
        {
          "output_type": "execute_result",
          "data": {
            "text/html": [
              "<div>\n",
              "<style scoped>\n",
              "    .dataframe tbody tr th:only-of-type {\n",
              "        vertical-align: middle;\n",
              "    }\n",
              "\n",
              "    .dataframe tbody tr th {\n",
              "        vertical-align: top;\n",
              "    }\n",
              "\n",
              "    .dataframe thead th {\n",
              "        text-align: right;\n",
              "    }\n",
              "</style>\n",
              "<table border=\"1\" class=\"dataframe\">\n",
              "  <thead>\n",
              "    <tr style=\"text-align: right;\">\n",
              "      <th></th>\n",
              "      <th>person_id</th>\n",
              "      <th>age</th>\n",
              "      <th>citizen_status</th>\n",
              "      <th>nativity_status</th>\n",
              "      <th>weekly_hours_worked</th>\n",
              "      <th>marital_status</th>\n",
              "      <th>school_status</th>\n",
              "      <th>sex</th>\n",
              "      <th>when_last_worked</th>\n",
              "      <th>worked_last_week</th>\n",
              "      <th>language</th>\n",
              "      <th>race_native_american</th>\n",
              "      <th>race_asian</th>\n",
              "      <th>race_black</th>\n",
              "      <th>race_native_hawaiian</th>\n",
              "      <th>race_pacific_islander</th>\n",
              "      <th>race_white</th>\n",
              "      <th>race_other</th>\n",
              "      <th>uninsured</th>\n",
              "      <th>household_id</th>\n",
              "      <th>hh_income_pct</th>\n",
              "    </tr>\n",
              "  </thead>\n",
              "  <tbody>\n",
              "    <tr>\n",
              "      <th>0</th>\n",
              "      <td>10</td>\n",
              "      <td>62</td>\n",
              "      <td>citizen_birth</td>\n",
              "      <td>native_born</td>\n",
              "      <td>55</td>\n",
              "      <td>married</td>\n",
              "      <td>not_student</td>\n",
              "      <td>FEMALE</td>\n",
              "      <td>in_last_year</td>\n",
              "      <td>worked</td>\n",
              "      <td>English</td>\n",
              "      <td>0</td>\n",
              "      <td>0</td>\n",
              "      <td>0</td>\n",
              "      <td>0</td>\n",
              "      <td>0</td>\n",
              "      <td>1</td>\n",
              "      <td>0</td>\n",
              "      <td>0</td>\n",
              "      <td>5</td>\n",
              "      <td>0.389078</td>\n",
              "    </tr>\n",
              "    <tr>\n",
              "      <th>1</th>\n",
              "      <td>11</td>\n",
              "      <td>65</td>\n",
              "      <td>citizen_birth</td>\n",
              "      <td>native_born</td>\n",
              "      <td>40</td>\n",
              "      <td>married</td>\n",
              "      <td>not_student</td>\n",
              "      <td>M</td>\n",
              "      <td>in_last_year</td>\n",
              "      <td>worked</td>\n",
              "      <td>English</td>\n",
              "      <td>0</td>\n",
              "      <td>0</td>\n",
              "      <td>0</td>\n",
              "      <td>0</td>\n",
              "      <td>0</td>\n",
              "      <td>1</td>\n",
              "      <td>0</td>\n",
              "      <td>0</td>\n",
              "      <td>5</td>\n",
              "      <td>0.610922</td>\n",
              "    </tr>\n",
              "    <tr>\n",
              "      <th>2</th>\n",
              "      <td>15</td>\n",
              "      <td>70</td>\n",
              "      <td>citizen_birth</td>\n",
              "      <td>native_born</td>\n",
              "      <td>0</td>\n",
              "      <td>married</td>\n",
              "      <td>not_student</td>\n",
              "      <td>MALE</td>\n",
              "      <td>over_five_years_ago</td>\n",
              "      <td>did_not_work</td>\n",
              "      <td>English</td>\n",
              "      <td>0</td>\n",
              "      <td>0</td>\n",
              "      <td>0</td>\n",
              "      <td>0</td>\n",
              "      <td>0</td>\n",
              "      <td>1</td>\n",
              "      <td>0</td>\n",
              "      <td>0</td>\n",
              "      <td>9</td>\n",
              "      <td>0.735381</td>\n",
              "    </tr>\n",
              "    <tr>\n",
              "      <th>3</th>\n",
              "      <td>16</td>\n",
              "      <td>70</td>\n",
              "      <td>citizen_birth</td>\n",
              "      <td>native_born</td>\n",
              "      <td>20</td>\n",
              "      <td>married</td>\n",
              "      <td>not_student</td>\n",
              "      <td>F</td>\n",
              "      <td>in_last_year</td>\n",
              "      <td>did_not_work</td>\n",
              "      <td>English</td>\n",
              "      <td>0</td>\n",
              "      <td>0</td>\n",
              "      <td>0</td>\n",
              "      <td>0</td>\n",
              "      <td>0</td>\n",
              "      <td>1</td>\n",
              "      <td>0</td>\n",
              "      <td>0</td>\n",
              "      <td>9</td>\n",
              "      <td>0.264619</td>\n",
              "    </tr>\n",
              "    <tr>\n",
              "      <th>4</th>\n",
              "      <td>43</td>\n",
              "      <td>75</td>\n",
              "      <td>citizen_birth</td>\n",
              "      <td>native_born</td>\n",
              "      <td>0</td>\n",
              "      <td>married</td>\n",
              "      <td>not_student</td>\n",
              "      <td>FEMALE</td>\n",
              "      <td>over_five_years_ago</td>\n",
              "      <td>not_reported</td>\n",
              "      <td>English</td>\n",
              "      <td>0</td>\n",
              "      <td>0</td>\n",
              "      <td>0</td>\n",
              "      <td>0</td>\n",
              "      <td>0</td>\n",
              "      <td>1</td>\n",
              "      <td>0</td>\n",
              "      <td>0</td>\n",
              "      <td>22</td>\n",
              "      <td>0.250230</td>\n",
              "    </tr>\n",
              "  </tbody>\n",
              "</table>\n",
              "</div>"
            ],
            "text/plain": [
              "   person_id  age citizen_status  ... uninsured  household_id hh_income_pct\n",
              "0         10   62  citizen_birth  ...         0             5      0.389078\n",
              "1         11   65  citizen_birth  ...         0             5      0.610922\n",
              "2         15   70  citizen_birth  ...         0             9      0.735381\n",
              "3         16   70  citizen_birth  ...         0             9      0.264619\n",
              "4         43   75  citizen_birth  ...         0            22      0.250230\n",
              "\n",
              "[5 rows x 21 columns]"
            ]
          },
          "metadata": {
            "tags": []
          },
          "execution_count": 7
        }
      ]
    },
    {
      "cell_type": "code",
      "metadata": {
        "colab": {
          "base_uri": "https://localhost:8080/"
        },
        "id": "TX5V6p6Tjk8t",
        "outputId": "82167bef-c443-45f2-8153-7e385fc18300"
      },
      "source": [
        "person.shape"
      ],
      "execution_count": 8,
      "outputs": [
        {
          "output_type": "execute_result",
          "data": {
            "text/plain": [
              "(19897, 21)"
            ]
          },
          "metadata": {
            "tags": []
          },
          "execution_count": 8
        }
      ]
    },
    {
      "cell_type": "code",
      "metadata": {
        "colab": {
          "base_uri": "https://localhost:8080/"
        },
        "id": "a3jz21Anlp06",
        "outputId": "e26f2400-ad77-45a4-efe8-2f06300a4823"
      },
      "source": [
        "person.isnull().sum()"
      ],
      "execution_count": 9,
      "outputs": [
        {
          "output_type": "execute_result",
          "data": {
            "text/plain": [
              "person_id                0\n",
              "age                      0\n",
              "citizen_status           0\n",
              "nativity_status          0\n",
              "weekly_hours_worked      0\n",
              "marital_status           0\n",
              "school_status            0\n",
              "sex                      0\n",
              "when_last_worked         0\n",
              "worked_last_week         0\n",
              "language                 0\n",
              "race_native_american     0\n",
              "race_asian               0\n",
              "race_black               0\n",
              "race_native_hawaiian     0\n",
              "race_pacific_islander    0\n",
              "race_white               0\n",
              "race_other               0\n",
              "uninsured                0\n",
              "household_id             0\n",
              "hh_income_pct            0\n",
              "dtype: int64"
            ]
          },
          "metadata": {
            "tags": []
          },
          "execution_count": 9
        }
      ]
    },
    {
      "cell_type": "code",
      "metadata": {
        "colab": {
          "base_uri": "https://localhost:8080/",
          "height": 224
        },
        "id": "tAVIUEcDgmLW",
        "outputId": "9b461dab-208a-48c1-9447-21dc0b078436"
      },
      "source": [
        "unlabeled.head()"
      ],
      "execution_count": 10,
      "outputs": [
        {
          "output_type": "execute_result",
          "data": {
            "text/html": [
              "<div>\n",
              "<style scoped>\n",
              "    .dataframe tbody tr th:only-of-type {\n",
              "        vertical-align: middle;\n",
              "    }\n",
              "\n",
              "    .dataframe tbody tr th {\n",
              "        vertical-align: top;\n",
              "    }\n",
              "\n",
              "    .dataframe thead th {\n",
              "        text-align: right;\n",
              "    }\n",
              "</style>\n",
              "<table border=\"1\" class=\"dataframe\">\n",
              "  <thead>\n",
              "    <tr style=\"text-align: right;\">\n",
              "      <th></th>\n",
              "      <th>person_id</th>\n",
              "      <th>age</th>\n",
              "      <th>citizen_status</th>\n",
              "      <th>nativity_status</th>\n",
              "      <th>weekly_hours_worked</th>\n",
              "      <th>total_income</th>\n",
              "      <th>self_employed_income</th>\n",
              "      <th>wage_income</th>\n",
              "      <th>interest_income</th>\n",
              "      <th>other_income</th>\n",
              "      <th>marital_status</th>\n",
              "      <th>school_status</th>\n",
              "      <th>sex</th>\n",
              "      <th>when_last_worked</th>\n",
              "      <th>worked_last_week</th>\n",
              "      <th>language</th>\n",
              "      <th>race_native_american</th>\n",
              "      <th>race_asian</th>\n",
              "      <th>race_black</th>\n",
              "      <th>race_native_hawaiian</th>\n",
              "      <th>race_pacific_islander</th>\n",
              "      <th>race_white</th>\n",
              "      <th>race_other</th>\n",
              "      <th>household_id</th>\n",
              "    </tr>\n",
              "  </thead>\n",
              "  <tbody>\n",
              "    <tr>\n",
              "      <th>0</th>\n",
              "      <td>12</td>\n",
              "      <td>28</td>\n",
              "      <td>citizen_birth</td>\n",
              "      <td>native_born</td>\n",
              "      <td>45</td>\n",
              "      <td>15254.0</td>\n",
              "      <td>15081.0</td>\n",
              "      <td>82.0</td>\n",
              "      <td>16.0</td>\n",
              "      <td>75.0</td>\n",
              "      <td>never_married</td>\n",
              "      <td>not_student</td>\n",
              "      <td>MALE</td>\n",
              "      <td>in_last_year</td>\n",
              "      <td>worked</td>\n",
              "      <td>English</td>\n",
              "      <td>0</td>\n",
              "      <td>0</td>\n",
              "      <td>0</td>\n",
              "      <td>0</td>\n",
              "      <td>0</td>\n",
              "      <td>1</td>\n",
              "      <td>0</td>\n",
              "      <td>6</td>\n",
              "    </tr>\n",
              "    <tr>\n",
              "      <th>1</th>\n",
              "      <td>13</td>\n",
              "      <td>40</td>\n",
              "      <td>citizen_birth</td>\n",
              "      <td>native_born</td>\n",
              "      <td>32</td>\n",
              "      <td>10291.0</td>\n",
              "      <td>45.0</td>\n",
              "      <td>9068.0</td>\n",
              "      <td>57.0</td>\n",
              "      <td>1121.0</td>\n",
              "      <td>divorced</td>\n",
              "      <td>not_student</td>\n",
              "      <td>MALE</td>\n",
              "      <td>in_last_year</td>\n",
              "      <td>worked</td>\n",
              "      <td>English</td>\n",
              "      <td>0</td>\n",
              "      <td>0</td>\n",
              "      <td>0</td>\n",
              "      <td>0</td>\n",
              "      <td>0</td>\n",
              "      <td>1</td>\n",
              "      <td>0</td>\n",
              "      <td>7</td>\n",
              "    </tr>\n",
              "    <tr>\n",
              "      <th>2</th>\n",
              "      <td>22</td>\n",
              "      <td>68</td>\n",
              "      <td>citizen_birth</td>\n",
              "      <td>native_born</td>\n",
              "      <td>0</td>\n",
              "      <td>13194.0</td>\n",
              "      <td>80.0</td>\n",
              "      <td>34.0</td>\n",
              "      <td>69.0</td>\n",
              "      <td>13011.0</td>\n",
              "      <td>married</td>\n",
              "      <td>not_student</td>\n",
              "      <td>MALE</td>\n",
              "      <td>over_five_years_ago</td>\n",
              "      <td>did_not_work</td>\n",
              "      <td>English</td>\n",
              "      <td>0</td>\n",
              "      <td>0</td>\n",
              "      <td>0</td>\n",
              "      <td>0</td>\n",
              "      <td>0</td>\n",
              "      <td>1</td>\n",
              "      <td>0</td>\n",
              "      <td>13</td>\n",
              "    </tr>\n",
              "    <tr>\n",
              "      <th>3</th>\n",
              "      <td>23</td>\n",
              "      <td>64</td>\n",
              "      <td>citizen_birth</td>\n",
              "      <td>native_born</td>\n",
              "      <td>40</td>\n",
              "      <td>30194.0</td>\n",
              "      <td>33.0</td>\n",
              "      <td>30094.0</td>\n",
              "      <td>37.0</td>\n",
              "      <td>30.0</td>\n",
              "      <td>married</td>\n",
              "      <td>not_student</td>\n",
              "      <td>F</td>\n",
              "      <td>in_last_year</td>\n",
              "      <td>worked</td>\n",
              "      <td>English</td>\n",
              "      <td>0</td>\n",
              "      <td>0</td>\n",
              "      <td>0</td>\n",
              "      <td>0</td>\n",
              "      <td>0</td>\n",
              "      <td>1</td>\n",
              "      <td>0</td>\n",
              "      <td>13</td>\n",
              "    </tr>\n",
              "    <tr>\n",
              "      <th>4</th>\n",
              "      <td>25</td>\n",
              "      <td>29</td>\n",
              "      <td>citizen_birth</td>\n",
              "      <td>native_born</td>\n",
              "      <td>40</td>\n",
              "      <td>52174.0</td>\n",
              "      <td>12.0</td>\n",
              "      <td>52101.0</td>\n",
              "      <td>52.0</td>\n",
              "      <td>9.0</td>\n",
              "      <td>never_married</td>\n",
              "      <td>not_student</td>\n",
              "      <td>MALE</td>\n",
              "      <td>in_last_year</td>\n",
              "      <td>worked</td>\n",
              "      <td>English</td>\n",
              "      <td>0</td>\n",
              "      <td>0</td>\n",
              "      <td>0</td>\n",
              "      <td>0</td>\n",
              "      <td>0</td>\n",
              "      <td>1</td>\n",
              "      <td>0</td>\n",
              "      <td>15</td>\n",
              "    </tr>\n",
              "  </tbody>\n",
              "</table>\n",
              "</div>"
            ],
            "text/plain": [
              "   person_id  age citizen_status  ... race_white  race_other  household_id\n",
              "0         12   28  citizen_birth  ...          1           0             6\n",
              "1         13   40  citizen_birth  ...          1           0             7\n",
              "2         22   68  citizen_birth  ...          1           0            13\n",
              "3         23   64  citizen_birth  ...          1           0            13\n",
              "4         25   29  citizen_birth  ...          1           0            15\n",
              "\n",
              "[5 rows x 24 columns]"
            ]
          },
          "metadata": {
            "tags": []
          },
          "execution_count": 10
        }
      ]
    },
    {
      "cell_type": "code",
      "metadata": {
        "colab": {
          "base_uri": "https://localhost:8080/"
        },
        "id": "cjRjCJyzjp5L",
        "outputId": "66bbb348-43ab-4fc1-a019-8274bc7f3c9c"
      },
      "source": [
        "unlabeled.shape"
      ],
      "execution_count": 11,
      "outputs": [
        {
          "output_type": "execute_result",
          "data": {
            "text/plain": [
              "(20172, 24)"
            ]
          },
          "metadata": {
            "tags": []
          },
          "execution_count": 11
        }
      ]
    },
    {
      "cell_type": "code",
      "metadata": {
        "colab": {
          "base_uri": "https://localhost:8080/"
        },
        "id": "OG10eMZElwu7",
        "outputId": "4ea9b2b2-2626-45a6-a25d-348830aaf7b3"
      },
      "source": [
        "unlabeled.isnull().sum()"
      ],
      "execution_count": 12,
      "outputs": [
        {
          "output_type": "execute_result",
          "data": {
            "text/plain": [
              "person_id                0\n",
              "age                      0\n",
              "citizen_status           0\n",
              "nativity_status          0\n",
              "weekly_hours_worked      0\n",
              "total_income             0\n",
              "self_employed_income     0\n",
              "wage_income              0\n",
              "interest_income          0\n",
              "other_income             0\n",
              "marital_status           0\n",
              "school_status            0\n",
              "sex                      0\n",
              "when_last_worked         0\n",
              "worked_last_week         0\n",
              "language                 0\n",
              "race_native_american     0\n",
              "race_asian               0\n",
              "race_black               0\n",
              "race_native_hawaiian     0\n",
              "race_pacific_islander    0\n",
              "race_white               0\n",
              "race_other               0\n",
              "household_id             0\n",
              "dtype: int64"
            ]
          },
          "metadata": {
            "tags": []
          },
          "execution_count": 12
        }
      ]
    },
    {
      "cell_type": "markdown",
      "metadata": {
        "id": "SSWyvn2QJx55"
      },
      "source": [
        "# Section 1 Exploratory Data Analysis"
      ]
    },
    {
      "cell_type": "code",
      "metadata": {
        "colab": {
          "base_uri": "https://localhost:8080/"
        },
        "id": "EQzR75KbA6ig",
        "outputId": "af9a103e-f002-4b72-9992-bee282d70a15"
      },
      "source": [
        "person['sex'].value_counts()"
      ],
      "execution_count": 13,
      "outputs": [
        {
          "output_type": "execute_result",
          "data": {
            "text/plain": [
              "FEMALE    7223\n",
              "MALE      6735\n",
              "F         2056\n",
              "M         1930\n",
              "female    1017\n",
              "male       936\n",
              "Name: sex, dtype: int64"
            ]
          },
          "metadata": {
            "tags": []
          },
          "execution_count": 13
        }
      ]
    },
    {
      "cell_type": "code",
      "metadata": {
        "colab": {
          "base_uri": "https://localhost:8080/",
          "height": 224
        },
        "id": "by3dgFsQlGmk",
        "outputId": "8d73bb71-83d4-4405-8ef0-dee3a3a87c74"
      },
      "source": [
        "person['sex'].replace({'FEMALE': 'female', 'F': 'female', 'MALE': 'male', 'M': 'male'}, inplace=True)\n",
        "person['sex'].value_counts()\n",
        "person = pd.get_dummies(person, columns=['sex'])\n",
        "person.head()"
      ],
      "execution_count": 14,
      "outputs": [
        {
          "output_type": "execute_result",
          "data": {
            "text/html": [
              "<div>\n",
              "<style scoped>\n",
              "    .dataframe tbody tr th:only-of-type {\n",
              "        vertical-align: middle;\n",
              "    }\n",
              "\n",
              "    .dataframe tbody tr th {\n",
              "        vertical-align: top;\n",
              "    }\n",
              "\n",
              "    .dataframe thead th {\n",
              "        text-align: right;\n",
              "    }\n",
              "</style>\n",
              "<table border=\"1\" class=\"dataframe\">\n",
              "  <thead>\n",
              "    <tr style=\"text-align: right;\">\n",
              "      <th></th>\n",
              "      <th>person_id</th>\n",
              "      <th>age</th>\n",
              "      <th>citizen_status</th>\n",
              "      <th>nativity_status</th>\n",
              "      <th>weekly_hours_worked</th>\n",
              "      <th>marital_status</th>\n",
              "      <th>school_status</th>\n",
              "      <th>when_last_worked</th>\n",
              "      <th>worked_last_week</th>\n",
              "      <th>language</th>\n",
              "      <th>race_native_american</th>\n",
              "      <th>race_asian</th>\n",
              "      <th>race_black</th>\n",
              "      <th>race_native_hawaiian</th>\n",
              "      <th>race_pacific_islander</th>\n",
              "      <th>race_white</th>\n",
              "      <th>race_other</th>\n",
              "      <th>uninsured</th>\n",
              "      <th>household_id</th>\n",
              "      <th>hh_income_pct</th>\n",
              "      <th>sex_female</th>\n",
              "      <th>sex_male</th>\n",
              "    </tr>\n",
              "  </thead>\n",
              "  <tbody>\n",
              "    <tr>\n",
              "      <th>0</th>\n",
              "      <td>10</td>\n",
              "      <td>62</td>\n",
              "      <td>citizen_birth</td>\n",
              "      <td>native_born</td>\n",
              "      <td>55</td>\n",
              "      <td>married</td>\n",
              "      <td>not_student</td>\n",
              "      <td>in_last_year</td>\n",
              "      <td>worked</td>\n",
              "      <td>English</td>\n",
              "      <td>0</td>\n",
              "      <td>0</td>\n",
              "      <td>0</td>\n",
              "      <td>0</td>\n",
              "      <td>0</td>\n",
              "      <td>1</td>\n",
              "      <td>0</td>\n",
              "      <td>0</td>\n",
              "      <td>5</td>\n",
              "      <td>0.389078</td>\n",
              "      <td>1</td>\n",
              "      <td>0</td>\n",
              "    </tr>\n",
              "    <tr>\n",
              "      <th>1</th>\n",
              "      <td>11</td>\n",
              "      <td>65</td>\n",
              "      <td>citizen_birth</td>\n",
              "      <td>native_born</td>\n",
              "      <td>40</td>\n",
              "      <td>married</td>\n",
              "      <td>not_student</td>\n",
              "      <td>in_last_year</td>\n",
              "      <td>worked</td>\n",
              "      <td>English</td>\n",
              "      <td>0</td>\n",
              "      <td>0</td>\n",
              "      <td>0</td>\n",
              "      <td>0</td>\n",
              "      <td>0</td>\n",
              "      <td>1</td>\n",
              "      <td>0</td>\n",
              "      <td>0</td>\n",
              "      <td>5</td>\n",
              "      <td>0.610922</td>\n",
              "      <td>0</td>\n",
              "      <td>1</td>\n",
              "    </tr>\n",
              "    <tr>\n",
              "      <th>2</th>\n",
              "      <td>15</td>\n",
              "      <td>70</td>\n",
              "      <td>citizen_birth</td>\n",
              "      <td>native_born</td>\n",
              "      <td>0</td>\n",
              "      <td>married</td>\n",
              "      <td>not_student</td>\n",
              "      <td>over_five_years_ago</td>\n",
              "      <td>did_not_work</td>\n",
              "      <td>English</td>\n",
              "      <td>0</td>\n",
              "      <td>0</td>\n",
              "      <td>0</td>\n",
              "      <td>0</td>\n",
              "      <td>0</td>\n",
              "      <td>1</td>\n",
              "      <td>0</td>\n",
              "      <td>0</td>\n",
              "      <td>9</td>\n",
              "      <td>0.735381</td>\n",
              "      <td>0</td>\n",
              "      <td>1</td>\n",
              "    </tr>\n",
              "    <tr>\n",
              "      <th>3</th>\n",
              "      <td>16</td>\n",
              "      <td>70</td>\n",
              "      <td>citizen_birth</td>\n",
              "      <td>native_born</td>\n",
              "      <td>20</td>\n",
              "      <td>married</td>\n",
              "      <td>not_student</td>\n",
              "      <td>in_last_year</td>\n",
              "      <td>did_not_work</td>\n",
              "      <td>English</td>\n",
              "      <td>0</td>\n",
              "      <td>0</td>\n",
              "      <td>0</td>\n",
              "      <td>0</td>\n",
              "      <td>0</td>\n",
              "      <td>1</td>\n",
              "      <td>0</td>\n",
              "      <td>0</td>\n",
              "      <td>9</td>\n",
              "      <td>0.264619</td>\n",
              "      <td>1</td>\n",
              "      <td>0</td>\n",
              "    </tr>\n",
              "    <tr>\n",
              "      <th>4</th>\n",
              "      <td>43</td>\n",
              "      <td>75</td>\n",
              "      <td>citizen_birth</td>\n",
              "      <td>native_born</td>\n",
              "      <td>0</td>\n",
              "      <td>married</td>\n",
              "      <td>not_student</td>\n",
              "      <td>over_five_years_ago</td>\n",
              "      <td>not_reported</td>\n",
              "      <td>English</td>\n",
              "      <td>0</td>\n",
              "      <td>0</td>\n",
              "      <td>0</td>\n",
              "      <td>0</td>\n",
              "      <td>0</td>\n",
              "      <td>1</td>\n",
              "      <td>0</td>\n",
              "      <td>0</td>\n",
              "      <td>22</td>\n",
              "      <td>0.250230</td>\n",
              "      <td>1</td>\n",
              "      <td>0</td>\n",
              "    </tr>\n",
              "  </tbody>\n",
              "</table>\n",
              "</div>"
            ],
            "text/plain": [
              "   person_id  age citizen_status  ... hh_income_pct  sex_female sex_male\n",
              "0         10   62  citizen_birth  ...      0.389078           1        0\n",
              "1         11   65  citizen_birth  ...      0.610922           0        1\n",
              "2         15   70  citizen_birth  ...      0.735381           0        1\n",
              "3         16   70  citizen_birth  ...      0.264619           1        0\n",
              "4         43   75  citizen_birth  ...      0.250230           1        0\n",
              "\n",
              "[5 rows x 22 columns]"
            ]
          },
          "metadata": {
            "tags": []
          },
          "execution_count": 14
        }
      ]
    },
    {
      "cell_type": "code",
      "metadata": {
        "colab": {
          "base_uri": "https://localhost:8080/"
        },
        "id": "yYs8IldFFt8u",
        "outputId": "1696c3c5-e902-4e4b-95e5-4674e5116d23"
      },
      "source": [
        "# average weekly hours worked among men and women\n",
        "\n",
        "weekly_hours_female = person[person['sex_female'] == 1]['weekly_hours_worked']\n",
        "avg_weekly_hours_female = np.mean(weekly_hours_female)\n",
        "print('The average weekly hours worked by women is', round(avg_weekly_hours_female, 1))\n",
        "\n",
        "weekly_hours_male = person[person['sex_male'] == 1]['weekly_hours_worked']\n",
        "avg_weekly_hours_male = np.mean(weekly_hours_male)\n",
        "print('The average weekly hours worked by men is', round(avg_weekly_hours_male, 1))\n",
        "\n",
        "weekly_hours = np.mean(person['weekly_hours_worked'])\n",
        "round(weekly_hours, 1)"
      ],
      "execution_count": 15,
      "outputs": [
        {
          "output_type": "stream",
          "text": [
            "The average weekly hours worked by women is 21.7\n",
            "The average weekly hours worked by men is 28.7\n"
          ],
          "name": "stdout"
        },
        {
          "output_type": "execute_result",
          "data": {
            "text/plain": [
              "25.1"
            ]
          },
          "metadata": {
            "tags": []
          },
          "execution_count": 15
        }
      ]
    },
    {
      "cell_type": "code",
      "metadata": {
        "id": "o40xksjLKPRb"
      },
      "source": [
        "#household_pivot = household.pivot_table(index=['household_id'], columns=['variable'], values=['value']).reset_index()\n",
        "#household_pivot.head()\n"
      ],
      "execution_count": 16,
      "outputs": []
    },
    {
      "cell_type": "code",
      "metadata": {
        "id": "SsDWb5B8q-o8"
      },
      "source": [
        "household_income_value = household[household['variable'] == 'hh_income']\n",
        "#print(household_income_value)\n",
        "household_income = household_income_value.drop(['variable'], axis=1)\n",
        "hh_income_dict = dict(zip(household_income['household_id'], household_income['value']))"
      ],
      "execution_count": 17,
      "outputs": []
    },
    {
      "cell_type": "code",
      "metadata": {
        "id": "cnmmebXjJIdo"
      },
      "source": [
        "# three households with highest per person income\n",
        "person_income = person[['person_id', 'household_id', 'hh_income_pct']]\n",
        "#print(person_income)\n",
        "income = []\n",
        "for idx, row in person_income.iterrows():\n",
        "  id = row['household_id']\n",
        "  pct = row['hh_income_pct']\n",
        "  income.append(np.multiply(pct, hh_income_dict[id]))"
      ],
      "execution_count": 18,
      "outputs": []
    },
    {
      "cell_type": "code",
      "metadata": {
        "colab": {
          "base_uri": "https://localhost:8080/",
          "height": 541
        },
        "id": "_00hqdr18NKn",
        "outputId": "9d79012e-871f-4f28-f924-0436ec795838"
      },
      "source": [
        "person_income['income'] = income\n",
        "person_income.sort_values(by=['income'], ascending=False)\n"
      ],
      "execution_count": 19,
      "outputs": [
        {
          "output_type": "stream",
          "text": [
            "/usr/local/lib/python3.6/dist-packages/ipykernel_launcher.py:1: SettingWithCopyWarning: \n",
            "A value is trying to be set on a copy of a slice from a DataFrame.\n",
            "Try using .loc[row_indexer,col_indexer] = value instead\n",
            "\n",
            "See the caveats in the documentation: https://pandas.pydata.org/pandas-docs/stable/user_guide/indexing.html#returning-a-view-versus-a-copy\n",
            "  \"\"\"Entry point for launching an IPython kernel.\n"
          ],
          "name": "stderr"
        },
        {
          "output_type": "execute_result",
          "data": {
            "text/html": [
              "<div>\n",
              "<style scoped>\n",
              "    .dataframe tbody tr th:only-of-type {\n",
              "        vertical-align: middle;\n",
              "    }\n",
              "\n",
              "    .dataframe tbody tr th {\n",
              "        vertical-align: top;\n",
              "    }\n",
              "\n",
              "    .dataframe thead th {\n",
              "        text-align: right;\n",
              "    }\n",
              "</style>\n",
              "<table border=\"1\" class=\"dataframe\">\n",
              "  <thead>\n",
              "    <tr style=\"text-align: right;\">\n",
              "      <th></th>\n",
              "      <th>person_id</th>\n",
              "      <th>household_id</th>\n",
              "      <th>hh_income_pct</th>\n",
              "      <th>income</th>\n",
              "    </tr>\n",
              "  </thead>\n",
              "  <tbody>\n",
              "    <tr>\n",
              "      <th>3563</th>\n",
              "      <td>23355</td>\n",
              "      <td>10110</td>\n",
              "      <td>0.955742</td>\n",
              "      <td>1060273.0</td>\n",
              "    </tr>\n",
              "    <tr>\n",
              "      <th>14109</th>\n",
              "      <td>89429</td>\n",
              "      <td>38870</td>\n",
              "      <td>1.000000</td>\n",
              "      <td>840245.0</td>\n",
              "    </tr>\n",
              "    <tr>\n",
              "      <th>12874</th>\n",
              "      <td>82159</td>\n",
              "      <td>35657</td>\n",
              "      <td>0.999787</td>\n",
              "      <td>815297.0</td>\n",
              "    </tr>\n",
              "    <tr>\n",
              "      <th>17729</th>\n",
              "      <td>112913</td>\n",
              "      <td>49171</td>\n",
              "      <td>0.975296</td>\n",
              "      <td>815263.0</td>\n",
              "    </tr>\n",
              "    <tr>\n",
              "      <th>9038</th>\n",
              "      <td>57569</td>\n",
              "      <td>24934</td>\n",
              "      <td>0.730872</td>\n",
              "      <td>815220.0</td>\n",
              "    </tr>\n",
              "    <tr>\n",
              "      <th>...</th>\n",
              "      <td>...</td>\n",
              "      <td>...</td>\n",
              "      <td>...</td>\n",
              "      <td>...</td>\n",
              "    </tr>\n",
              "    <tr>\n",
              "      <th>266</th>\n",
              "      <td>1886</td>\n",
              "      <td>813</td>\n",
              "      <td>0.001460</td>\n",
              "      <td>50.0</td>\n",
              "    </tr>\n",
              "    <tr>\n",
              "      <th>16060</th>\n",
              "      <td>102295</td>\n",
              "      <td>44478</td>\n",
              "      <td>0.000945</td>\n",
              "      <td>38.0</td>\n",
              "    </tr>\n",
              "    <tr>\n",
              "      <th>1991</th>\n",
              "      <td>12695</td>\n",
              "      <td>5486</td>\n",
              "      <td>0.000250</td>\n",
              "      <td>37.0</td>\n",
              "    </tr>\n",
              "    <tr>\n",
              "      <th>11259</th>\n",
              "      <td>71959</td>\n",
              "      <td>31221</td>\n",
              "      <td>0.000430</td>\n",
              "      <td>26.0</td>\n",
              "    </tr>\n",
              "    <tr>\n",
              "      <th>7106</th>\n",
              "      <td>45207</td>\n",
              "      <td>19508</td>\n",
              "      <td>0.000533</td>\n",
              "      <td>25.0</td>\n",
              "    </tr>\n",
              "  </tbody>\n",
              "</table>\n",
              "<p>19897 rows × 4 columns</p>\n",
              "</div>"
            ],
            "text/plain": [
              "       person_id  household_id  hh_income_pct     income\n",
              "3563       23355         10110       0.955742  1060273.0\n",
              "14109      89429         38870       1.000000   840245.0\n",
              "12874      82159         35657       0.999787   815297.0\n",
              "17729     112913         49171       0.975296   815263.0\n",
              "9038       57569         24934       0.730872   815220.0\n",
              "...          ...           ...            ...        ...\n",
              "266         1886           813       0.001460       50.0\n",
              "16060     102295         44478       0.000945       38.0\n",
              "1991       12695          5486       0.000250       37.0\n",
              "11259      71959         31221       0.000430       26.0\n",
              "7106       45207         19508       0.000533       25.0\n",
              "\n",
              "[19897 rows x 4 columns]"
            ]
          },
          "metadata": {
            "tags": []
          },
          "execution_count": 19
        }
      ]
    },
    {
      "cell_type": "code",
      "metadata": {
        "colab": {
          "base_uri": "https://localhost:8080/"
        },
        "id": "UFQihzpqAyl9",
        "outputId": "f310411f-5326-4e63-9125-943f12d0edac"
      },
      "source": [
        "person['marital_status'].value_counts()"
      ],
      "execution_count": 20,
      "outputs": [
        {
          "output_type": "execute_result",
          "data": {
            "text/plain": [
              "married          10910\n",
              "never_married     5335\n",
              "divorced          1980\n",
              "widowed           1376\n",
              "separated          296\n",
              "Name: marital_status, dtype: int64"
            ]
          },
          "metadata": {
            "tags": []
          },
          "execution_count": 20
        }
      ]
    },
    {
      "cell_type": "code",
      "metadata": {
        "colab": {
          "base_uri": "https://localhost:8080/"
        },
        "id": "ILp2maDzBJ_Z",
        "outputId": "6f922bfa-3d1d-4501-f15b-0d725950fb87"
      },
      "source": [
        "married_age = person[person['marital_status'] == 'married']['age']\n",
        "print('The 80th percentile age of married people is', int(np.percentile(married_age, 80)))\n",
        "\n",
        "never_married_age = person[person['marital_status'] == 'never_married']['age']\n",
        "print('The 80th percentile age of people who were never married is', int(np.percentile(never_married_age, 80)))\n",
        "\n",
        "divorced_age = person[person['marital_status'] == 'divorced']['age']\n",
        "print('The 80th percentile age of divorced people is', int(np.percentile(divorced_age, 80)))\n",
        "\n",
        "widowed_age = person[person['marital_status'] == 'widowed']['age']\n",
        "print('The 80th percentile age of widowed people is', int(np.percentile(widowed_age, 80)))\n",
        "\n",
        "separated_age = person[person['marital_status'] == 'separated']['age']\n",
        "print('The 80th percentile age of people with a marriage status \"separated\" is', int(np.percentile(separated_age, 80)))"
      ],
      "execution_count": 21,
      "outputs": [
        {
          "output_type": "stream",
          "text": [
            "The 80th percentile age of married people is 67\n",
            "The 80th percentile age of people who were never married is 45\n",
            "The 80th percentile age of divorced people is 67\n",
            "The 80th percentile age of widowed people is 86\n",
            "The 80th percentile age of people with a marriage status \"separated\" is 61\n"
          ],
          "name": "stdout"
        }
      ]
    },
    {
      "cell_type": "markdown",
      "metadata": {
        "id": "DyaUNbCYJoWf"
      },
      "source": [
        "#Section 2 Modeling"
      ]
    },
    {
      "cell_type": "code",
      "metadata": {
        "colab": {
          "base_uri": "https://localhost:8080/"
        },
        "id": "1Cr213BuJJfW",
        "outputId": "8a3cc570-88a2-4b0f-c32f-2586b9c91baa"
      },
      "source": [
        "training.shape"
      ],
      "execution_count": 22,
      "outputs": [
        {
          "output_type": "execute_result",
          "data": {
            "text/plain": [
              "(59597, 25)"
            ]
          },
          "metadata": {
            "tags": []
          },
          "execution_count": 22
        }
      ]
    },
    {
      "cell_type": "code",
      "metadata": {
        "colab": {
          "base_uri": "https://localhost:8080/",
          "height": 224
        },
        "id": "LfD7pFIEKAiq",
        "outputId": "3f03f991-9c7c-493e-a0dc-6f7e5ff82aaf"
      },
      "source": [
        "training.head()"
      ],
      "execution_count": 23,
      "outputs": [
        {
          "output_type": "execute_result",
          "data": {
            "text/html": [
              "<div>\n",
              "<style scoped>\n",
              "    .dataframe tbody tr th:only-of-type {\n",
              "        vertical-align: middle;\n",
              "    }\n",
              "\n",
              "    .dataframe tbody tr th {\n",
              "        vertical-align: top;\n",
              "    }\n",
              "\n",
              "    .dataframe thead th {\n",
              "        text-align: right;\n",
              "    }\n",
              "</style>\n",
              "<table border=\"1\" class=\"dataframe\">\n",
              "  <thead>\n",
              "    <tr style=\"text-align: right;\">\n",
              "      <th></th>\n",
              "      <th>person_id</th>\n",
              "      <th>age</th>\n",
              "      <th>citizen_status</th>\n",
              "      <th>nativity_status</th>\n",
              "      <th>weekly_hours_worked</th>\n",
              "      <th>total_income</th>\n",
              "      <th>self_employed_income</th>\n",
              "      <th>wage_income</th>\n",
              "      <th>interest_income</th>\n",
              "      <th>other_income</th>\n",
              "      <th>marital_status</th>\n",
              "      <th>school_status</th>\n",
              "      <th>sex</th>\n",
              "      <th>when_last_worked</th>\n",
              "      <th>worked_last_week</th>\n",
              "      <th>language</th>\n",
              "      <th>race_native_american</th>\n",
              "      <th>race_asian</th>\n",
              "      <th>race_black</th>\n",
              "      <th>race_native_hawaiian</th>\n",
              "      <th>race_pacific_islander</th>\n",
              "      <th>race_white</th>\n",
              "      <th>race_other</th>\n",
              "      <th>uninsured</th>\n",
              "      <th>household_id</th>\n",
              "    </tr>\n",
              "  </thead>\n",
              "  <tbody>\n",
              "    <tr>\n",
              "      <th>0</th>\n",
              "      <td>1</td>\n",
              "      <td>45</td>\n",
              "      <td>citizen_birth</td>\n",
              "      <td>native_born</td>\n",
              "      <td>15</td>\n",
              "      <td>908.0</td>\n",
              "      <td>62.0</td>\n",
              "      <td>800.0</td>\n",
              "      <td>11.0</td>\n",
              "      <td>35.0</td>\n",
              "      <td>married</td>\n",
              "      <td>not_student</td>\n",
              "      <td>FEMALE</td>\n",
              "      <td>in_last_year</td>\n",
              "      <td>worked</td>\n",
              "      <td>English</td>\n",
              "      <td>0</td>\n",
              "      <td>0</td>\n",
              "      <td>0</td>\n",
              "      <td>0</td>\n",
              "      <td>0</td>\n",
              "      <td>1</td>\n",
              "      <td>0</td>\n",
              "      <td>0</td>\n",
              "      <td>1</td>\n",
              "    </tr>\n",
              "    <tr>\n",
              "      <th>1</th>\n",
              "      <td>2</td>\n",
              "      <td>47</td>\n",
              "      <td>citizen_birth</td>\n",
              "      <td>native_born</td>\n",
              "      <td>50</td>\n",
              "      <td>180499.0</td>\n",
              "      <td>49.0</td>\n",
              "      <td>160007.0</td>\n",
              "      <td>20424.0</td>\n",
              "      <td>19.0</td>\n",
              "      <td>married</td>\n",
              "      <td>not_student</td>\n",
              "      <td>MALE</td>\n",
              "      <td>in_last_year</td>\n",
              "      <td>worked</td>\n",
              "      <td>English</td>\n",
              "      <td>0</td>\n",
              "      <td>0</td>\n",
              "      <td>0</td>\n",
              "      <td>0</td>\n",
              "      <td>0</td>\n",
              "      <td>1</td>\n",
              "      <td>0</td>\n",
              "      <td>0</td>\n",
              "      <td>1</td>\n",
              "    </tr>\n",
              "    <tr>\n",
              "      <th>2</th>\n",
              "      <td>4</td>\n",
              "      <td>26</td>\n",
              "      <td>citizen_birth</td>\n",
              "      <td>native_born</td>\n",
              "      <td>0</td>\n",
              "      <td>7367.0</td>\n",
              "      <td>93.0</td>\n",
              "      <td>4.0</td>\n",
              "      <td>20.0</td>\n",
              "      <td>7250.0</td>\n",
              "      <td>never_married</td>\n",
              "      <td>not_student</td>\n",
              "      <td>male</td>\n",
              "      <td>over_five_years_ago</td>\n",
              "      <td>not_reported</td>\n",
              "      <td>English</td>\n",
              "      <td>0</td>\n",
              "      <td>0</td>\n",
              "      <td>1</td>\n",
              "      <td>0</td>\n",
              "      <td>0</td>\n",
              "      <td>0</td>\n",
              "      <td>0</td>\n",
              "      <td>0</td>\n",
              "      <td>2</td>\n",
              "    </tr>\n",
              "    <tr>\n",
              "      <th>3</th>\n",
              "      <td>5</td>\n",
              "      <td>42</td>\n",
              "      <td>citizen_naturalized</td>\n",
              "      <td>foreign_born</td>\n",
              "      <td>0</td>\n",
              "      <td>22970.0</td>\n",
              "      <td>51.0</td>\n",
              "      <td>46.0</td>\n",
              "      <td>283.0</td>\n",
              "      <td>22590.0</td>\n",
              "      <td>never_married</td>\n",
              "      <td>public_school</td>\n",
              "      <td>MALE</td>\n",
              "      <td>in_last_five_years</td>\n",
              "      <td>did_not_work</td>\n",
              "      <td>Korean</td>\n",
              "      <td>0</td>\n",
              "      <td>1</td>\n",
              "      <td>0</td>\n",
              "      <td>0</td>\n",
              "      <td>0</td>\n",
              "      <td>0</td>\n",
              "      <td>0</td>\n",
              "      <td>0</td>\n",
              "      <td>3</td>\n",
              "    </tr>\n",
              "    <tr>\n",
              "      <th>4</th>\n",
              "      <td>6</td>\n",
              "      <td>79</td>\n",
              "      <td>citizen_naturalized</td>\n",
              "      <td>foreign_born</td>\n",
              "      <td>0</td>\n",
              "      <td>7941.0</td>\n",
              "      <td>23.0</td>\n",
              "      <td>94.0</td>\n",
              "      <td>73.0</td>\n",
              "      <td>7751.0</td>\n",
              "      <td>married</td>\n",
              "      <td>not_student</td>\n",
              "      <td>MALE</td>\n",
              "      <td>over_five_years_ago</td>\n",
              "      <td>did_not_work</td>\n",
              "      <td>Korean</td>\n",
              "      <td>0</td>\n",
              "      <td>1</td>\n",
              "      <td>0</td>\n",
              "      <td>0</td>\n",
              "      <td>0</td>\n",
              "      <td>0</td>\n",
              "      <td>0</td>\n",
              "      <td>0</td>\n",
              "      <td>3</td>\n",
              "    </tr>\n",
              "  </tbody>\n",
              "</table>\n",
              "</div>"
            ],
            "text/plain": [
              "   person_id  age       citizen_status  ... race_other  uninsured  household_id\n",
              "0          1   45        citizen_birth  ...          0          0             1\n",
              "1          2   47        citizen_birth  ...          0          0             1\n",
              "2          4   26        citizen_birth  ...          0          0             2\n",
              "3          5   42  citizen_naturalized  ...          0          0             3\n",
              "4          6   79  citizen_naturalized  ...          0          0             3\n",
              "\n",
              "[5 rows x 25 columns]"
            ]
          },
          "metadata": {
            "tags": []
          },
          "execution_count": 23
        }
      ]
    },
    {
      "cell_type": "code",
      "metadata": {
        "colab": {
          "base_uri": "https://localhost:8080/"
        },
        "id": "3VlAYDvbJ4S7",
        "outputId": "483fc7b2-d1d7-43b9-ef7f-14c32105bd38"
      },
      "source": [
        "training.isnull().sum()"
      ],
      "execution_count": 24,
      "outputs": [
        {
          "output_type": "execute_result",
          "data": {
            "text/plain": [
              "person_id                0\n",
              "age                      0\n",
              "citizen_status           0\n",
              "nativity_status          0\n",
              "weekly_hours_worked      0\n",
              "total_income             0\n",
              "self_employed_income     0\n",
              "wage_income              0\n",
              "interest_income          0\n",
              "other_income             0\n",
              "marital_status           0\n",
              "school_status            0\n",
              "sex                      0\n",
              "when_last_worked         0\n",
              "worked_last_week         0\n",
              "language                 0\n",
              "race_native_american     0\n",
              "race_asian               0\n",
              "race_black               0\n",
              "race_native_hawaiian     0\n",
              "race_pacific_islander    0\n",
              "race_white               0\n",
              "race_other               0\n",
              "uninsured                0\n",
              "household_id             0\n",
              "dtype: int64"
            ]
          },
          "metadata": {
            "tags": []
          },
          "execution_count": 24
        }
      ]
    },
    {
      "cell_type": "code",
      "metadata": {
        "colab": {
          "base_uri": "https://localhost:8080/",
          "height": 224
        },
        "id": "FW8_i0TJzxFD",
        "outputId": "9dffd0bd-6305-44d7-c5ab-8eddf9979067"
      },
      "source": [
        "unlabeled.head()"
      ],
      "execution_count": 25,
      "outputs": [
        {
          "output_type": "execute_result",
          "data": {
            "text/html": [
              "<div>\n",
              "<style scoped>\n",
              "    .dataframe tbody tr th:only-of-type {\n",
              "        vertical-align: middle;\n",
              "    }\n",
              "\n",
              "    .dataframe tbody tr th {\n",
              "        vertical-align: top;\n",
              "    }\n",
              "\n",
              "    .dataframe thead th {\n",
              "        text-align: right;\n",
              "    }\n",
              "</style>\n",
              "<table border=\"1\" class=\"dataframe\">\n",
              "  <thead>\n",
              "    <tr style=\"text-align: right;\">\n",
              "      <th></th>\n",
              "      <th>person_id</th>\n",
              "      <th>age</th>\n",
              "      <th>citizen_status</th>\n",
              "      <th>nativity_status</th>\n",
              "      <th>weekly_hours_worked</th>\n",
              "      <th>total_income</th>\n",
              "      <th>self_employed_income</th>\n",
              "      <th>wage_income</th>\n",
              "      <th>interest_income</th>\n",
              "      <th>other_income</th>\n",
              "      <th>marital_status</th>\n",
              "      <th>school_status</th>\n",
              "      <th>sex</th>\n",
              "      <th>when_last_worked</th>\n",
              "      <th>worked_last_week</th>\n",
              "      <th>language</th>\n",
              "      <th>race_native_american</th>\n",
              "      <th>race_asian</th>\n",
              "      <th>race_black</th>\n",
              "      <th>race_native_hawaiian</th>\n",
              "      <th>race_pacific_islander</th>\n",
              "      <th>race_white</th>\n",
              "      <th>race_other</th>\n",
              "      <th>household_id</th>\n",
              "    </tr>\n",
              "  </thead>\n",
              "  <tbody>\n",
              "    <tr>\n",
              "      <th>0</th>\n",
              "      <td>12</td>\n",
              "      <td>28</td>\n",
              "      <td>citizen_birth</td>\n",
              "      <td>native_born</td>\n",
              "      <td>45</td>\n",
              "      <td>15254.0</td>\n",
              "      <td>15081.0</td>\n",
              "      <td>82.0</td>\n",
              "      <td>16.0</td>\n",
              "      <td>75.0</td>\n",
              "      <td>never_married</td>\n",
              "      <td>not_student</td>\n",
              "      <td>MALE</td>\n",
              "      <td>in_last_year</td>\n",
              "      <td>worked</td>\n",
              "      <td>English</td>\n",
              "      <td>0</td>\n",
              "      <td>0</td>\n",
              "      <td>0</td>\n",
              "      <td>0</td>\n",
              "      <td>0</td>\n",
              "      <td>1</td>\n",
              "      <td>0</td>\n",
              "      <td>6</td>\n",
              "    </tr>\n",
              "    <tr>\n",
              "      <th>1</th>\n",
              "      <td>13</td>\n",
              "      <td>40</td>\n",
              "      <td>citizen_birth</td>\n",
              "      <td>native_born</td>\n",
              "      <td>32</td>\n",
              "      <td>10291.0</td>\n",
              "      <td>45.0</td>\n",
              "      <td>9068.0</td>\n",
              "      <td>57.0</td>\n",
              "      <td>1121.0</td>\n",
              "      <td>divorced</td>\n",
              "      <td>not_student</td>\n",
              "      <td>MALE</td>\n",
              "      <td>in_last_year</td>\n",
              "      <td>worked</td>\n",
              "      <td>English</td>\n",
              "      <td>0</td>\n",
              "      <td>0</td>\n",
              "      <td>0</td>\n",
              "      <td>0</td>\n",
              "      <td>0</td>\n",
              "      <td>1</td>\n",
              "      <td>0</td>\n",
              "      <td>7</td>\n",
              "    </tr>\n",
              "    <tr>\n",
              "      <th>2</th>\n",
              "      <td>22</td>\n",
              "      <td>68</td>\n",
              "      <td>citizen_birth</td>\n",
              "      <td>native_born</td>\n",
              "      <td>0</td>\n",
              "      <td>13194.0</td>\n",
              "      <td>80.0</td>\n",
              "      <td>34.0</td>\n",
              "      <td>69.0</td>\n",
              "      <td>13011.0</td>\n",
              "      <td>married</td>\n",
              "      <td>not_student</td>\n",
              "      <td>MALE</td>\n",
              "      <td>over_five_years_ago</td>\n",
              "      <td>did_not_work</td>\n",
              "      <td>English</td>\n",
              "      <td>0</td>\n",
              "      <td>0</td>\n",
              "      <td>0</td>\n",
              "      <td>0</td>\n",
              "      <td>0</td>\n",
              "      <td>1</td>\n",
              "      <td>0</td>\n",
              "      <td>13</td>\n",
              "    </tr>\n",
              "    <tr>\n",
              "      <th>3</th>\n",
              "      <td>23</td>\n",
              "      <td>64</td>\n",
              "      <td>citizen_birth</td>\n",
              "      <td>native_born</td>\n",
              "      <td>40</td>\n",
              "      <td>30194.0</td>\n",
              "      <td>33.0</td>\n",
              "      <td>30094.0</td>\n",
              "      <td>37.0</td>\n",
              "      <td>30.0</td>\n",
              "      <td>married</td>\n",
              "      <td>not_student</td>\n",
              "      <td>F</td>\n",
              "      <td>in_last_year</td>\n",
              "      <td>worked</td>\n",
              "      <td>English</td>\n",
              "      <td>0</td>\n",
              "      <td>0</td>\n",
              "      <td>0</td>\n",
              "      <td>0</td>\n",
              "      <td>0</td>\n",
              "      <td>1</td>\n",
              "      <td>0</td>\n",
              "      <td>13</td>\n",
              "    </tr>\n",
              "    <tr>\n",
              "      <th>4</th>\n",
              "      <td>25</td>\n",
              "      <td>29</td>\n",
              "      <td>citizen_birth</td>\n",
              "      <td>native_born</td>\n",
              "      <td>40</td>\n",
              "      <td>52174.0</td>\n",
              "      <td>12.0</td>\n",
              "      <td>52101.0</td>\n",
              "      <td>52.0</td>\n",
              "      <td>9.0</td>\n",
              "      <td>never_married</td>\n",
              "      <td>not_student</td>\n",
              "      <td>MALE</td>\n",
              "      <td>in_last_year</td>\n",
              "      <td>worked</td>\n",
              "      <td>English</td>\n",
              "      <td>0</td>\n",
              "      <td>0</td>\n",
              "      <td>0</td>\n",
              "      <td>0</td>\n",
              "      <td>0</td>\n",
              "      <td>1</td>\n",
              "      <td>0</td>\n",
              "      <td>15</td>\n",
              "    </tr>\n",
              "  </tbody>\n",
              "</table>\n",
              "</div>"
            ],
            "text/plain": [
              "   person_id  age citizen_status  ... race_white  race_other  household_id\n",
              "0         12   28  citizen_birth  ...          1           0             6\n",
              "1         13   40  citizen_birth  ...          1           0             7\n",
              "2         22   68  citizen_birth  ...          1           0            13\n",
              "3         23   64  citizen_birth  ...          1           0            13\n",
              "4         25   29  citizen_birth  ...          1           0            15\n",
              "\n",
              "[5 rows x 24 columns]"
            ]
          },
          "metadata": {
            "tags": []
          },
          "execution_count": 25
        }
      ]
    },
    {
      "cell_type": "code",
      "metadata": {
        "colab": {
          "base_uri": "https://localhost:8080/"
        },
        "id": "jjuE9snrqTDi",
        "outputId": "0c5a8dcf-c9c9-4c53-9ee2-793660051a2f"
      },
      "source": [
        "# encode 'sex' variable\n",
        "training['sex'].replace({'FEMALE': 'female', 'F': 'female', 'MALE': 'male', 'M': 'male'}, inplace=True)\n",
        "training['sex'].value_counts()\n",
        "#training = pd.get_dummies(training, columns=['sex'])\n",
        "#training.head()"
      ],
      "execution_count": 26,
      "outputs": [
        {
          "output_type": "execute_result",
          "data": {
            "text/plain": [
              "female    30834\n",
              "male      28763\n",
              "Name: sex, dtype: int64"
            ]
          },
          "metadata": {
            "tags": []
          },
          "execution_count": 26
        }
      ]
    },
    {
      "cell_type": "code",
      "metadata": {
        "colab": {
          "base_uri": "https://localhost:8080/",
          "height": 321
        },
        "id": "7L_uKdoXt30S",
        "outputId": "50a4d09c-7507-4408-b8fe-1c88a3cba42b"
      },
      "source": [
        "categoricals = training.dtypes == object\n",
        "cat_cols = training.columns[categoricals].tolist()\n",
        "\n",
        "ohe = OneHotEncoder(handle_unknown='ignore', sparse = False)\n",
        "ohe.fit(training[cat_cols])\n",
        "cat_ohe = ohe.transform(training[cat_cols])\n",
        "\n",
        "ohe_df = pd.DataFrame(cat_ohe, columns = ohe.get_feature_names(input_features = cat_cols))\n",
        "\n",
        "encoded = pd.concat([training, ohe_df], axis=1).drop(columns = cat_cols, axis=1)\n",
        "\n",
        "encoded.head()\n"
      ],
      "execution_count": 27,
      "outputs": [
        {
          "output_type": "execute_result",
          "data": {
            "text/html": [
              "<div>\n",
              "<style scoped>\n",
              "    .dataframe tbody tr th:only-of-type {\n",
              "        vertical-align: middle;\n",
              "    }\n",
              "\n",
              "    .dataframe tbody tr th {\n",
              "        vertical-align: top;\n",
              "    }\n",
              "\n",
              "    .dataframe thead th {\n",
              "        text-align: right;\n",
              "    }\n",
              "</style>\n",
              "<table border=\"1\" class=\"dataframe\">\n",
              "  <thead>\n",
              "    <tr style=\"text-align: right;\">\n",
              "      <th></th>\n",
              "      <th>person_id</th>\n",
              "      <th>age</th>\n",
              "      <th>weekly_hours_worked</th>\n",
              "      <th>total_income</th>\n",
              "      <th>self_employed_income</th>\n",
              "      <th>wage_income</th>\n",
              "      <th>interest_income</th>\n",
              "      <th>other_income</th>\n",
              "      <th>race_native_american</th>\n",
              "      <th>race_asian</th>\n",
              "      <th>race_black</th>\n",
              "      <th>race_native_hawaiian</th>\n",
              "      <th>race_pacific_islander</th>\n",
              "      <th>race_white</th>\n",
              "      <th>race_other</th>\n",
              "      <th>uninsured</th>\n",
              "      <th>household_id</th>\n",
              "      <th>citizen_status_citizen_birth</th>\n",
              "      <th>citizen_status_citizen_naturalized</th>\n",
              "      <th>citizen_status_noncitizen</th>\n",
              "      <th>nativity_status_foreign_born</th>\n",
              "      <th>nativity_status_native_born</th>\n",
              "      <th>marital_status_divorced</th>\n",
              "      <th>marital_status_married</th>\n",
              "      <th>marital_status_never_married</th>\n",
              "      <th>marital_status_separated</th>\n",
              "      <th>marital_status_widowed</th>\n",
              "      <th>school_status_not_student</th>\n",
              "      <th>school_status_private_school</th>\n",
              "      <th>school_status_public_school</th>\n",
              "      <th>sex_female</th>\n",
              "      <th>sex_male</th>\n",
              "      <th>when_last_worked_in_last_five_years</th>\n",
              "      <th>when_last_worked_in_last_year</th>\n",
              "      <th>when_last_worked_over_five_years_ago</th>\n",
              "      <th>worked_last_week_did_not_work</th>\n",
              "      <th>worked_last_week_not_reported</th>\n",
              "      <th>worked_last_week_worked</th>\n",
              "      <th>language_Afrikaans</th>\n",
              "      <th>language_Albanian</th>\n",
              "      <th>...</th>\n",
              "      <th>language_Nepali</th>\n",
              "      <th>language_Norwegian</th>\n",
              "      <th>language_Ojibwa</th>\n",
              "      <th>language_Other Algonquian languages</th>\n",
              "      <th>language_Other Asian languages</th>\n",
              "      <th>language_Other Indo-European languages</th>\n",
              "      <th>language_Other Specified North American Indian languages</th>\n",
              "      <th>language_Other languages</th>\n",
              "      <th>language_Other specified African languages</th>\n",
              "      <th>language_Pakistan N.E.C.</th>\n",
              "      <th>language_Panjabi</th>\n",
              "      <th>language_Pashto</th>\n",
              "      <th>language_Patois</th>\n",
              "      <th>language_Pennsylvania Dutch</th>\n",
              "      <th>language_Persian</th>\n",
              "      <th>language_Polish</th>\n",
              "      <th>language_Portuguese</th>\n",
              "      <th>language_Romanian</th>\n",
              "      <th>language_Russian</th>\n",
              "      <th>language_Sebuano</th>\n",
              "      <th>language_Serbian</th>\n",
              "      <th>language_Serbo-Croatian</th>\n",
              "      <th>language_Sindhi</th>\n",
              "      <th>language_Sinhalese</th>\n",
              "      <th>language_Slovak</th>\n",
              "      <th>language_South/Central American Indian languages</th>\n",
              "      <th>language_Spanish</th>\n",
              "      <th>language_Swahili</th>\n",
              "      <th>language_Swedish</th>\n",
              "      <th>language_Syriac</th>\n",
              "      <th>language_Tagalog</th>\n",
              "      <th>language_Tamil</th>\n",
              "      <th>language_Telugu</th>\n",
              "      <th>language_Thai</th>\n",
              "      <th>language_Turkish</th>\n",
              "      <th>language_Uighur</th>\n",
              "      <th>language_Ukrainian</th>\n",
              "      <th>language_Urdu</th>\n",
              "      <th>language_Vietnamese</th>\n",
              "      <th>language_Yiddish</th>\n",
              "    </tr>\n",
              "  </thead>\n",
              "  <tbody>\n",
              "    <tr>\n",
              "      <th>0</th>\n",
              "      <td>1</td>\n",
              "      <td>45</td>\n",
              "      <td>15</td>\n",
              "      <td>908.0</td>\n",
              "      <td>62.0</td>\n",
              "      <td>800.0</td>\n",
              "      <td>11.0</td>\n",
              "      <td>35.0</td>\n",
              "      <td>0</td>\n",
              "      <td>0</td>\n",
              "      <td>0</td>\n",
              "      <td>0</td>\n",
              "      <td>0</td>\n",
              "      <td>1</td>\n",
              "      <td>0</td>\n",
              "      <td>0</td>\n",
              "      <td>1</td>\n",
              "      <td>1.0</td>\n",
              "      <td>0.0</td>\n",
              "      <td>0.0</td>\n",
              "      <td>0.0</td>\n",
              "      <td>1.0</td>\n",
              "      <td>0.0</td>\n",
              "      <td>1.0</td>\n",
              "      <td>0.0</td>\n",
              "      <td>0.0</td>\n",
              "      <td>0.0</td>\n",
              "      <td>1.0</td>\n",
              "      <td>0.0</td>\n",
              "      <td>0.0</td>\n",
              "      <td>1.0</td>\n",
              "      <td>0.0</td>\n",
              "      <td>0.0</td>\n",
              "      <td>1.0</td>\n",
              "      <td>0.0</td>\n",
              "      <td>0.0</td>\n",
              "      <td>0.0</td>\n",
              "      <td>1.0</td>\n",
              "      <td>0.0</td>\n",
              "      <td>0.0</td>\n",
              "      <td>...</td>\n",
              "      <td>0.0</td>\n",
              "      <td>0.0</td>\n",
              "      <td>0.0</td>\n",
              "      <td>0.0</td>\n",
              "      <td>0.0</td>\n",
              "      <td>0.0</td>\n",
              "      <td>0.0</td>\n",
              "      <td>0.0</td>\n",
              "      <td>0.0</td>\n",
              "      <td>0.0</td>\n",
              "      <td>0.0</td>\n",
              "      <td>0.0</td>\n",
              "      <td>0.0</td>\n",
              "      <td>0.0</td>\n",
              "      <td>0.0</td>\n",
              "      <td>0.0</td>\n",
              "      <td>0.0</td>\n",
              "      <td>0.0</td>\n",
              "      <td>0.0</td>\n",
              "      <td>0.0</td>\n",
              "      <td>0.0</td>\n",
              "      <td>0.0</td>\n",
              "      <td>0.0</td>\n",
              "      <td>0.0</td>\n",
              "      <td>0.0</td>\n",
              "      <td>0.0</td>\n",
              "      <td>0.0</td>\n",
              "      <td>0.0</td>\n",
              "      <td>0.0</td>\n",
              "      <td>0.0</td>\n",
              "      <td>0.0</td>\n",
              "      <td>0.0</td>\n",
              "      <td>0.0</td>\n",
              "      <td>0.0</td>\n",
              "      <td>0.0</td>\n",
              "      <td>0.0</td>\n",
              "      <td>0.0</td>\n",
              "      <td>0.0</td>\n",
              "      <td>0.0</td>\n",
              "      <td>0.0</td>\n",
              "    </tr>\n",
              "    <tr>\n",
              "      <th>1</th>\n",
              "      <td>2</td>\n",
              "      <td>47</td>\n",
              "      <td>50</td>\n",
              "      <td>180499.0</td>\n",
              "      <td>49.0</td>\n",
              "      <td>160007.0</td>\n",
              "      <td>20424.0</td>\n",
              "      <td>19.0</td>\n",
              "      <td>0</td>\n",
              "      <td>0</td>\n",
              "      <td>0</td>\n",
              "      <td>0</td>\n",
              "      <td>0</td>\n",
              "      <td>1</td>\n",
              "      <td>0</td>\n",
              "      <td>0</td>\n",
              "      <td>1</td>\n",
              "      <td>1.0</td>\n",
              "      <td>0.0</td>\n",
              "      <td>0.0</td>\n",
              "      <td>0.0</td>\n",
              "      <td>1.0</td>\n",
              "      <td>0.0</td>\n",
              "      <td>1.0</td>\n",
              "      <td>0.0</td>\n",
              "      <td>0.0</td>\n",
              "      <td>0.0</td>\n",
              "      <td>1.0</td>\n",
              "      <td>0.0</td>\n",
              "      <td>0.0</td>\n",
              "      <td>0.0</td>\n",
              "      <td>1.0</td>\n",
              "      <td>0.0</td>\n",
              "      <td>1.0</td>\n",
              "      <td>0.0</td>\n",
              "      <td>0.0</td>\n",
              "      <td>0.0</td>\n",
              "      <td>1.0</td>\n",
              "      <td>0.0</td>\n",
              "      <td>0.0</td>\n",
              "      <td>...</td>\n",
              "      <td>0.0</td>\n",
              "      <td>0.0</td>\n",
              "      <td>0.0</td>\n",
              "      <td>0.0</td>\n",
              "      <td>0.0</td>\n",
              "      <td>0.0</td>\n",
              "      <td>0.0</td>\n",
              "      <td>0.0</td>\n",
              "      <td>0.0</td>\n",
              "      <td>0.0</td>\n",
              "      <td>0.0</td>\n",
              "      <td>0.0</td>\n",
              "      <td>0.0</td>\n",
              "      <td>0.0</td>\n",
              "      <td>0.0</td>\n",
              "      <td>0.0</td>\n",
              "      <td>0.0</td>\n",
              "      <td>0.0</td>\n",
              "      <td>0.0</td>\n",
              "      <td>0.0</td>\n",
              "      <td>0.0</td>\n",
              "      <td>0.0</td>\n",
              "      <td>0.0</td>\n",
              "      <td>0.0</td>\n",
              "      <td>0.0</td>\n",
              "      <td>0.0</td>\n",
              "      <td>0.0</td>\n",
              "      <td>0.0</td>\n",
              "      <td>0.0</td>\n",
              "      <td>0.0</td>\n",
              "      <td>0.0</td>\n",
              "      <td>0.0</td>\n",
              "      <td>0.0</td>\n",
              "      <td>0.0</td>\n",
              "      <td>0.0</td>\n",
              "      <td>0.0</td>\n",
              "      <td>0.0</td>\n",
              "      <td>0.0</td>\n",
              "      <td>0.0</td>\n",
              "      <td>0.0</td>\n",
              "    </tr>\n",
              "    <tr>\n",
              "      <th>2</th>\n",
              "      <td>4</td>\n",
              "      <td>26</td>\n",
              "      <td>0</td>\n",
              "      <td>7367.0</td>\n",
              "      <td>93.0</td>\n",
              "      <td>4.0</td>\n",
              "      <td>20.0</td>\n",
              "      <td>7250.0</td>\n",
              "      <td>0</td>\n",
              "      <td>0</td>\n",
              "      <td>1</td>\n",
              "      <td>0</td>\n",
              "      <td>0</td>\n",
              "      <td>0</td>\n",
              "      <td>0</td>\n",
              "      <td>0</td>\n",
              "      <td>2</td>\n",
              "      <td>1.0</td>\n",
              "      <td>0.0</td>\n",
              "      <td>0.0</td>\n",
              "      <td>0.0</td>\n",
              "      <td>1.0</td>\n",
              "      <td>0.0</td>\n",
              "      <td>0.0</td>\n",
              "      <td>1.0</td>\n",
              "      <td>0.0</td>\n",
              "      <td>0.0</td>\n",
              "      <td>1.0</td>\n",
              "      <td>0.0</td>\n",
              "      <td>0.0</td>\n",
              "      <td>0.0</td>\n",
              "      <td>1.0</td>\n",
              "      <td>0.0</td>\n",
              "      <td>0.0</td>\n",
              "      <td>1.0</td>\n",
              "      <td>0.0</td>\n",
              "      <td>1.0</td>\n",
              "      <td>0.0</td>\n",
              "      <td>0.0</td>\n",
              "      <td>0.0</td>\n",
              "      <td>...</td>\n",
              "      <td>0.0</td>\n",
              "      <td>0.0</td>\n",
              "      <td>0.0</td>\n",
              "      <td>0.0</td>\n",
              "      <td>0.0</td>\n",
              "      <td>0.0</td>\n",
              "      <td>0.0</td>\n",
              "      <td>0.0</td>\n",
              "      <td>0.0</td>\n",
              "      <td>0.0</td>\n",
              "      <td>0.0</td>\n",
              "      <td>0.0</td>\n",
              "      <td>0.0</td>\n",
              "      <td>0.0</td>\n",
              "      <td>0.0</td>\n",
              "      <td>0.0</td>\n",
              "      <td>0.0</td>\n",
              "      <td>0.0</td>\n",
              "      <td>0.0</td>\n",
              "      <td>0.0</td>\n",
              "      <td>0.0</td>\n",
              "      <td>0.0</td>\n",
              "      <td>0.0</td>\n",
              "      <td>0.0</td>\n",
              "      <td>0.0</td>\n",
              "      <td>0.0</td>\n",
              "      <td>0.0</td>\n",
              "      <td>0.0</td>\n",
              "      <td>0.0</td>\n",
              "      <td>0.0</td>\n",
              "      <td>0.0</td>\n",
              "      <td>0.0</td>\n",
              "      <td>0.0</td>\n",
              "      <td>0.0</td>\n",
              "      <td>0.0</td>\n",
              "      <td>0.0</td>\n",
              "      <td>0.0</td>\n",
              "      <td>0.0</td>\n",
              "      <td>0.0</td>\n",
              "      <td>0.0</td>\n",
              "    </tr>\n",
              "    <tr>\n",
              "      <th>3</th>\n",
              "      <td>5</td>\n",
              "      <td>42</td>\n",
              "      <td>0</td>\n",
              "      <td>22970.0</td>\n",
              "      <td>51.0</td>\n",
              "      <td>46.0</td>\n",
              "      <td>283.0</td>\n",
              "      <td>22590.0</td>\n",
              "      <td>0</td>\n",
              "      <td>1</td>\n",
              "      <td>0</td>\n",
              "      <td>0</td>\n",
              "      <td>0</td>\n",
              "      <td>0</td>\n",
              "      <td>0</td>\n",
              "      <td>0</td>\n",
              "      <td>3</td>\n",
              "      <td>0.0</td>\n",
              "      <td>1.0</td>\n",
              "      <td>0.0</td>\n",
              "      <td>1.0</td>\n",
              "      <td>0.0</td>\n",
              "      <td>0.0</td>\n",
              "      <td>0.0</td>\n",
              "      <td>1.0</td>\n",
              "      <td>0.0</td>\n",
              "      <td>0.0</td>\n",
              "      <td>0.0</td>\n",
              "      <td>0.0</td>\n",
              "      <td>1.0</td>\n",
              "      <td>0.0</td>\n",
              "      <td>1.0</td>\n",
              "      <td>1.0</td>\n",
              "      <td>0.0</td>\n",
              "      <td>0.0</td>\n",
              "      <td>1.0</td>\n",
              "      <td>0.0</td>\n",
              "      <td>0.0</td>\n",
              "      <td>0.0</td>\n",
              "      <td>0.0</td>\n",
              "      <td>...</td>\n",
              "      <td>0.0</td>\n",
              "      <td>0.0</td>\n",
              "      <td>0.0</td>\n",
              "      <td>0.0</td>\n",
              "      <td>0.0</td>\n",
              "      <td>0.0</td>\n",
              "      <td>0.0</td>\n",
              "      <td>0.0</td>\n",
              "      <td>0.0</td>\n",
              "      <td>0.0</td>\n",
              "      <td>0.0</td>\n",
              "      <td>0.0</td>\n",
              "      <td>0.0</td>\n",
              "      <td>0.0</td>\n",
              "      <td>0.0</td>\n",
              "      <td>0.0</td>\n",
              "      <td>0.0</td>\n",
              "      <td>0.0</td>\n",
              "      <td>0.0</td>\n",
              "      <td>0.0</td>\n",
              "      <td>0.0</td>\n",
              "      <td>0.0</td>\n",
              "      <td>0.0</td>\n",
              "      <td>0.0</td>\n",
              "      <td>0.0</td>\n",
              "      <td>0.0</td>\n",
              "      <td>0.0</td>\n",
              "      <td>0.0</td>\n",
              "      <td>0.0</td>\n",
              "      <td>0.0</td>\n",
              "      <td>0.0</td>\n",
              "      <td>0.0</td>\n",
              "      <td>0.0</td>\n",
              "      <td>0.0</td>\n",
              "      <td>0.0</td>\n",
              "      <td>0.0</td>\n",
              "      <td>0.0</td>\n",
              "      <td>0.0</td>\n",
              "      <td>0.0</td>\n",
              "      <td>0.0</td>\n",
              "    </tr>\n",
              "    <tr>\n",
              "      <th>4</th>\n",
              "      <td>6</td>\n",
              "      <td>79</td>\n",
              "      <td>0</td>\n",
              "      <td>7941.0</td>\n",
              "      <td>23.0</td>\n",
              "      <td>94.0</td>\n",
              "      <td>73.0</td>\n",
              "      <td>7751.0</td>\n",
              "      <td>0</td>\n",
              "      <td>1</td>\n",
              "      <td>0</td>\n",
              "      <td>0</td>\n",
              "      <td>0</td>\n",
              "      <td>0</td>\n",
              "      <td>0</td>\n",
              "      <td>0</td>\n",
              "      <td>3</td>\n",
              "      <td>0.0</td>\n",
              "      <td>1.0</td>\n",
              "      <td>0.0</td>\n",
              "      <td>1.0</td>\n",
              "      <td>0.0</td>\n",
              "      <td>0.0</td>\n",
              "      <td>1.0</td>\n",
              "      <td>0.0</td>\n",
              "      <td>0.0</td>\n",
              "      <td>0.0</td>\n",
              "      <td>1.0</td>\n",
              "      <td>0.0</td>\n",
              "      <td>0.0</td>\n",
              "      <td>0.0</td>\n",
              "      <td>1.0</td>\n",
              "      <td>0.0</td>\n",
              "      <td>0.0</td>\n",
              "      <td>1.0</td>\n",
              "      <td>1.0</td>\n",
              "      <td>0.0</td>\n",
              "      <td>0.0</td>\n",
              "      <td>0.0</td>\n",
              "      <td>0.0</td>\n",
              "      <td>...</td>\n",
              "      <td>0.0</td>\n",
              "      <td>0.0</td>\n",
              "      <td>0.0</td>\n",
              "      <td>0.0</td>\n",
              "      <td>0.0</td>\n",
              "      <td>0.0</td>\n",
              "      <td>0.0</td>\n",
              "      <td>0.0</td>\n",
              "      <td>0.0</td>\n",
              "      <td>0.0</td>\n",
              "      <td>0.0</td>\n",
              "      <td>0.0</td>\n",
              "      <td>0.0</td>\n",
              "      <td>0.0</td>\n",
              "      <td>0.0</td>\n",
              "      <td>0.0</td>\n",
              "      <td>0.0</td>\n",
              "      <td>0.0</td>\n",
              "      <td>0.0</td>\n",
              "      <td>0.0</td>\n",
              "      <td>0.0</td>\n",
              "      <td>0.0</td>\n",
              "      <td>0.0</td>\n",
              "      <td>0.0</td>\n",
              "      <td>0.0</td>\n",
              "      <td>0.0</td>\n",
              "      <td>0.0</td>\n",
              "      <td>0.0</td>\n",
              "      <td>0.0</td>\n",
              "      <td>0.0</td>\n",
              "      <td>0.0</td>\n",
              "      <td>0.0</td>\n",
              "      <td>0.0</td>\n",
              "      <td>0.0</td>\n",
              "      <td>0.0</td>\n",
              "      <td>0.0</td>\n",
              "      <td>0.0</td>\n",
              "      <td>0.0</td>\n",
              "      <td>0.0</td>\n",
              "      <td>0.0</td>\n",
              "    </tr>\n",
              "  </tbody>\n",
              "</table>\n",
              "<p>5 rows × 129 columns</p>\n",
              "</div>"
            ],
            "text/plain": [
              "   person_id  age  ...  language_Vietnamese  language_Yiddish\n",
              "0          1   45  ...                  0.0               0.0\n",
              "1          2   47  ...                  0.0               0.0\n",
              "2          4   26  ...                  0.0               0.0\n",
              "3          5   42  ...                  0.0               0.0\n",
              "4          6   79  ...                  0.0               0.0\n",
              "\n",
              "[5 rows x 129 columns]"
            ]
          },
          "metadata": {
            "tags": []
          },
          "execution_count": 27
        }
      ]
    },
    {
      "cell_type": "code",
      "metadata": {
        "colab": {
          "base_uri": "https://localhost:8080/",
          "height": 363
        },
        "id": "0WOrBRuAq5wV",
        "outputId": "a9b9795d-5937-47a0-fb9d-39d3c370ae25"
      },
      "source": [
        "print(training.groupby(['uninsured']).uninsured.count())\n",
        "plt.title('Proportion of Uninsured')\n",
        "sns.countplot(x=training.uninsured)\n",
        "plt.show()"
      ],
      "execution_count": 28,
      "outputs": [
        {
          "output_type": "stream",
          "text": [
            "uninsured\n",
            "0    54977\n",
            "1     4620\n",
            "Name: uninsured, dtype: int64\n"
          ],
          "name": "stdout"
        },
        {
          "output_type": "display_data",
          "data": {
            "image/png": "[encoded data removed]",
            "text/plain": [
              "<Figure size 432x288 with 1 Axes>"
            ]
          },
          "metadata": {
            "tags": [],
            "needs_background": "light"
          }
        }
      ]
    },
    {
      "cell_type": "code",
      "metadata": {
        "colab": {
          "base_uri": "https://localhost:8080/",
          "height": 390
        },
        "id": "2rHv1EmvtTR7",
        "outputId": "cf92e974-4275-4c05-8d84-ce2201929940"
      },
      "source": [
        "sns.heatmap(training.corr())"
      ],
      "execution_count": 29,
      "outputs": [
        {
          "output_type": "execute_result",
          "data": {
            "text/plain": [
              "<matplotlib.axes._subplots.AxesSubplot at 0x7fe32320d9b0>"
            ]
          },
          "metadata": {
            "tags": []
          },
          "execution_count": 29
        },
        {
          "output_type": "display_data",
          "data": {
            "image/png": "[encoded data removed]",
            "text/plain": [
              "<Figure size 432x288 with 2 Axes>"
            ]
          },
          "metadata": {
            "tags": [],
            "needs_background": "light"
          }
        }
      ]
    },
    {
      "cell_type": "code",
      "metadata": {
        "id": "CafjhbWKsTVz"
      },
      "source": [
        "# encode the other categorical variables\n",
        "#encoded = pd.get_dummies(training, columns=['citizen_status', 'nativity_status', 'marital_status', 'school_status', 'when_last_worked', 'worked_last_week', 'language'])\n",
        "#encoded"
      ],
      "execution_count": 30,
      "outputs": []
    },
    {
      "cell_type": "code",
      "metadata": {
        "colab": {
          "base_uri": "https://localhost:8080/",
          "height": 279
        },
        "id": "99yqbmJQ0Zwy",
        "outputId": "06c8bc13-54b4-4996-f024-89579e02500e"
      },
      "source": [
        "# Majority of people who are insured are around 60 years old\n",
        "# Most people who are uninsured are 18-50 years old\n",
        "insured_age_plt = plt.hist(training.age[training.uninsured == 0], width = 5)\n",
        "uninsured_age_plt = plt.hist(training.age[training.uninsured == 1], width = 5)\n",
        "plt.legend(('Insured', 'Uninsured'))\n",
        "plt.xlabel('Age')\n",
        "plt.ylabel('Frequency')\n",
        "plt.show()"
      ],
      "execution_count": 31,
      "outputs": [
        {
          "output_type": "display_data",
          "data": {
            "image/png": "[encoded data removed]",
            "text/plain": [
              "<Figure size 432x288 with 1 Axes>"
            ]
          },
          "metadata": {
            "tags": [],
            "needs_background": "light"
          }
        }
      ]
    },
    {
      "cell_type": "code",
      "metadata": {
        "colab": {
          "base_uri": "https://localhost:8080/",
          "height": 1000
        },
        "id": "9A69IA8o9I9K",
        "outputId": "14d5b00d-5f8e-48a1-913b-8257f61a1d98"
      },
      "source": [
        "training.hist(figsize = (16,18))\n",
        "plt.show()"
      ],
      "execution_count": 32,
      "outputs": [
        {
          "output_type": "display_data",
          "data": {
            "image/png": "[encoded data removed]",
            "text/plain": [
              "<Figure size 1152x1296 with 20 Axes>"
            ]
          },
          "metadata": {
            "tags": [],
            "needs_background": "light"
          }
        }
      ]
    },
    {
      "cell_type": "code",
      "metadata": {
        "id": "3kHWho6tx-Em"
      },
      "source": [
        "target = encoded['uninsured']\n",
        "features = encoded.drop(['uninsured', 'person_id'], axis=1)"
      ],
      "execution_count": 33,
      "outputs": []
    },
    {
      "cell_type": "code",
      "metadata": {
        "colab": {
          "base_uri": "https://localhost:8080/"
        },
        "id": "Tr_tGkcaqufk",
        "outputId": "e8f2f671-ff3e-492a-920d-f1dc05574c12"
      },
      "source": [
        "features.columns"
      ],
      "execution_count": 34,
      "outputs": [
        {
          "output_type": "execute_result",
          "data": {
            "text/plain": [
              "Index(['age', 'weekly_hours_worked', 'total_income', 'self_employed_income',\n",
              "       'wage_income', 'interest_income', 'other_income',\n",
              "       'race_native_american', 'race_asian', 'race_black',\n",
              "       ...\n",
              "       'language_Tagalog', 'language_Tamil', 'language_Telugu',\n",
              "       'language_Thai', 'language_Turkish', 'language_Uighur',\n",
              "       'language_Ukrainian', 'language_Urdu', 'language_Vietnamese',\n",
              "       'language_Yiddish'],\n",
              "      dtype='object', length=127)"
            ]
          },
          "metadata": {
            "tags": []
          },
          "execution_count": 34
        }
      ]
    },
    {
      "cell_type": "code",
      "metadata": {
        "colab": {
          "base_uri": "https://localhost:8080/"
        },
        "id": "1Z_7dCryg4H2",
        "outputId": "cf26ba1c-f281-4ed9-b387-0de9d983e3d7"
      },
      "source": [
        "from xgboost import XGBClassifier\n",
        "X_train, X_test, y_train, y_test = train_test_split(features, target, test_size=0.33, random_state=1)\n",
        "model = XGBClassifier()\n",
        "model.fit(X_train, y_train)\n",
        "y_pred = model.predict(X_test)\n",
        "predictions = [round(value) for value in y_pred]\n",
        "accuracy = metrics.accuracy_score(y_test, predictions)\n",
        "print(\"Accuracy: %.2f%%\" % (accuracy * 100.0))\n",
        "print(metrics.classification_report(y_test, predictions))"
      ],
      "execution_count": 35,
      "outputs": [
        {
          "output_type": "stream",
          "text": [
            "Accuracy: 92.60%\n",
            "              precision    recall  f1-score   support\n",
            "\n",
            "           0       0.93      0.99      0.96     18186\n",
            "           1       0.55      0.10      0.17      1482\n",
            "\n",
            "    accuracy                           0.93     19668\n",
            "   macro avg       0.74      0.55      0.56     19668\n",
            "weighted avg       0.90      0.93      0.90     19668\n",
            "\n"
          ],
          "name": "stdout"
        }
      ]
    },
    {
      "cell_type": "code",
      "metadata": {
        "colab": {
          "base_uri": "https://localhost:8080/"
        },
        "id": "xDSirPwdygyp",
        "outputId": "7e90fb86-2b65-467d-c680-0348ce1f7428"
      },
      "source": [
        "X_train, X_test, y_train, y_test = train_test_split(features, target, test_size=0.33, random_state=1)\n",
        "log_model = LogisticRegression(max_iter=4000)\n",
        "log_model.fit(X_train, y_train)\n",
        "# evaluate the model\n",
        "yhat = log_model.predict(X_test)\n",
        "# evaluate predictions\n",
        "accuracy = metrics.accuracy_score(y_test, yhat)\n",
        "print('Accuracy: %.2f' % (accuracy*100))"
      ],
      "execution_count": 36,
      "outputs": [
        {
          "output_type": "stream",
          "text": [
            "Accuracy: 92.52\n"
          ],
          "name": "stdout"
        }
      ]
    },
    {
      "cell_type": "code",
      "metadata": {
        "colab": {
          "base_uri": "https://localhost:8080/"
        },
        "id": "SIqP_SJJTikw",
        "outputId": "5d785dee-5c1c-436d-9086-4cb941eac9d7"
      },
      "source": [
        "print(metrics.confusion_matrix(y_test, yhat))\n",
        "print(metrics.classification_report(y_test, yhat))\n",
        "print(metrics.roc_auc_score(y_test, yhat))"
      ],
      "execution_count": 37,
      "outputs": [
        {
          "output_type": "stream",
          "text": [
            "[[18179     7]\n",
            " [ 1464    18]]\n",
            "              precision    recall  f1-score   support\n",
            "\n",
            "           0       0.93      1.00      0.96     18186\n",
            "           1       0.72      0.01      0.02      1482\n",
            "\n",
            "    accuracy                           0.93     19668\n",
            "   macro avg       0.82      0.51      0.49     19668\n",
            "weighted avg       0.91      0.93      0.89     19668\n",
            "\n",
            "0.5058804187587462\n"
          ],
          "name": "stdout"
        }
      ]
    },
    {
      "cell_type": "code",
      "metadata": {
        "colab": {
          "base_uri": "https://localhost:8080/"
        },
        "id": "kOEvHOtsmtpb",
        "outputId": "6b1a53e7-14b5-4372-87bf-6e01e530c7f3"
      },
      "source": [
        "lr_precision, lr_recall, _ = metrics.precision_recall_curve(y_test, yhat)\n",
        "lr_f1, lr_auc = metrics.f1_score(y_test, yhat), metrics.auc(lr_recall, lr_precision)\n",
        "print('Logistic: f1=%.3f auc=%.3f' % (lr_f1, lr_auc))"
      ],
      "execution_count": 38,
      "outputs": [
        {
          "output_type": "stream",
          "text": [
            "Logistic: f1=0.024 auc=0.403\n"
          ],
          "name": "stdout"
        }
      ]
    },
    {
      "cell_type": "code",
      "metadata": {
        "colab": {
          "base_uri": "https://localhost:8080/"
        },
        "id": "6Pa2JXwrYZoE",
        "outputId": "f0362a1c-a9f8-4c8c-c98a-520f67e2d1ae"
      },
      "source": [
        "# Instantiate\n",
        "rf = RandomForestClassifier()    \n",
        "# Fit\n",
        "rf_model = rf.fit(X_train, y_train)\n",
        "# training accuracy 99.74%\n",
        "rf_model.score(X_train, y_train)\n",
        "\n",
        "# Predictions/probs on the test dataset\n",
        "predicted = pd.DataFrame(rf_model.predict(X_test))\n",
        "probs = pd.DataFrame(rf_model.predict_proba(X_test))\n",
        "\n",
        "# Store metrics\n",
        "rf_accuracy = metrics.accuracy_score(y_test, predicted)\n",
        "rf_roc_auc = metrics.roc_auc_score(y_test, probs[1])\n",
        "rf_confus_matrix = metrics.confusion_matrix(y_test, predicted)\n",
        "print(rf_confus_matrix)\n",
        "print(metrics.classification_report(y_test, predicted))\n",
        "\n",
        "# Evaluate the model using 10-fold cross-validation\n",
        "#rf_cv_scores = model_selection.cross_val_score(RandomForestClassifier(), X_test, y_test, scoring='precision', cv=10)\n",
        "#rf_cv_mean = np.mean(rf_cv_scores)\n",
        "\n",
        "#print(rf_cv_mean)\n"
      ],
      "execution_count": 39,
      "outputs": [
        {
          "output_type": "stream",
          "text": [
            "[[18047   139]\n",
            " [ 1337   145]]\n",
            "              precision    recall  f1-score   support\n",
            "\n",
            "           0       0.93      0.99      0.96     18186\n",
            "           1       0.51      0.10      0.16      1482\n",
            "\n",
            "    accuracy                           0.92     19668\n",
            "   macro avg       0.72      0.55      0.56     19668\n",
            "weighted avg       0.90      0.92      0.90     19668\n",
            "\n"
          ],
          "name": "stdout"
        }
      ]
    },
    {
      "cell_type": "code",
      "metadata": {
        "colab": {
          "base_uri": "https://localhost:8080/"
        },
        "id": "ihZ41oBNOSFP",
        "outputId": "e03b7913-55a8-41e2-9c5b-67955a69979f"
      },
      "source": [
        "lr_precision, lr_recall, _ = metrics.precision_recall_curve(y_test, yhat)\n",
        "lr_f1, lr_auc = metrics.f1_score(y_test, yhat), metrics.auc(lr_recall, lr_precision)\n",
        "print('Logistic: f1=%.3f auc=%.3f' % (lr_f1, lr_auc))"
      ],
      "execution_count": 40,
      "outputs": [
        {
          "output_type": "stream",
          "text": [
            "Logistic: f1=0.024 auc=0.403\n"
          ],
          "name": "stdout"
        }
      ]
    },
    {
      "cell_type": "code",
      "metadata": {
        "id": "nazfo0fImL-I"
      },
      "source": [
        "unlabeled_with_person = unlabeled.copy()\n",
        "unlabeled.drop(['person_id'], axis=1, inplace=True)\n",
        "cat_ohe_new = ohe.transform(unlabeled[cat_cols])\n",
        "ohe_df_new = pd.DataFrame(cat_ohe_new, columns = ohe.get_feature_names(input_features = cat_cols))\n",
        "testing = pd.concat([unlabeled, ohe_df_new], axis=1).drop(columns = cat_cols, axis=1)\n",
        "\n",
        "predict = log_model.predict_proba(testing)\n",
        "\n"
      ],
      "execution_count": 41,
      "outputs": []
    },
    {
      "cell_type": "code",
      "metadata": {
        "colab": {
          "base_uri": "https://localhost:8080/"
        },
        "id": "Brr6KVP0FmOO",
        "outputId": "f52bc79e-7fb0-4c12-dae1-91791651f582"
      },
      "source": [
        "print(log_model.predict_proba(features)[0:10])\n",
        "print(target[0:10])"
      ],
      "execution_count": 42,
      "outputs": [
        {
          "output_type": "stream",
          "text": [
            "[[0.91313534 0.08686466]\n",
            " [0.9980315  0.0019685 ]\n",
            " [0.84910028 0.15089972]\n",
            " [0.82041795 0.17958205]\n",
            " [0.75488161 0.24511839]\n",
            " [0.80997691 0.19002309]\n",
            " [0.95365006 0.04634994]\n",
            " [0.95107503 0.04892497]\n",
            " [0.9183138  0.0816862 ]\n",
            " [0.94812014 0.05187986]]\n",
            "0    0\n",
            "1    0\n",
            "2    0\n",
            "3    0\n",
            "4    0\n",
            "5    0\n",
            "6    0\n",
            "7    0\n",
            "8    0\n",
            "9    0\n",
            "Name: uninsured, dtype: int64\n"
          ],
          "name": "stdout"
        }
      ]
    },
    {
      "cell_type": "code",
      "metadata": {
        "id": "KRDzeyh71G2w"
      },
      "source": [
        "uninsured_score = []\n",
        "for i in range(len(testing)):\n",
        "  uninsured_score.append(predict[i][1])"
      ],
      "execution_count": 43,
      "outputs": []
    },
    {
      "cell_type": "code",
      "metadata": {
        "colab": {
          "base_uri": "https://localhost:8080/"
        },
        "id": "jZciCm8GDnHE",
        "outputId": "e4304a0f-376c-4d87-b94d-887adc11b7ea"
      },
      "source": [
        "max(uninsured_score)"
      ],
      "execution_count": 44,
      "outputs": [
        {
          "output_type": "execute_result",
          "data": {
            "text/plain": [
              "0.5698585296061036"
            ]
          },
          "metadata": {
            "tags": []
          },
          "execution_count": 44
        }
      ]
    },
    {
      "cell_type": "code",
      "metadata": {
        "id": "fshs8Srbzds7"
      },
      "source": [
        "person_ids = unlabeled_with_person.person_id\n",
        "\n",
        "scores_dict = {'person_id': person_ids.values, 'score': uninsured_score}\n",
        "#scores_dict\n"
      ],
      "execution_count": 45,
      "outputs": []
    },
    {
      "cell_type": "code",
      "metadata": {
        "id": "huLwN152i04F"
      },
      "source": [
        " # person_id and probability of being uninsured\n",
        " pd.DataFrame(scores_dict).to_csv('part3_scores.csv', index=False)"
      ],
      "execution_count": 46,
      "outputs": []
    }
  ]
}